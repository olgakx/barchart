{
 "cells": [
  {
   "cell_type": "code",
   "execution_count": 3,
   "metadata": {},
   "outputs": [
    {
     "data": {
      "text/html": [
       "        <script type=\"text/javascript\">\n",
       "        window.PlotlyConfig = {MathJaxConfig: 'local'};\n",
       "        if (window.MathJax) {MathJax.Hub.Config({SVG: {font: \"STIX-Web\"}});}\n",
       "        if (typeof require !== 'undefined') {\n",
       "        require.undef(\"plotly\");\n",
       "        requirejs.config({\n",
       "            paths: {\n",
       "                'plotly': ['https://cdn.plot.ly/plotly-latest.min']\n",
       "            }\n",
       "        });\n",
       "        require(['plotly'], function(Plotly) {\n",
       "            window._Plotly = Plotly;\n",
       "        });\n",
       "        }\n",
       "        </script>\n",
       "        "
      ]
     },
     "metadata": {},
     "output_type": "display_data"
    }
   ],
   "source": [
    "import pandas as pd\n",
    "import mplfinance as mpf\n",
    "\n",
    "\n",
    "from plotly.offline import download_plotlyjs, init_notebook_mode, plot, iplot\n",
    "from plotly import graph_objs as go\n",
    "init_notebook_mode(connected = True)\n",
    "\n",
    "#Импортируем необходимые библиотеки"
   ]
  },
  {
   "cell_type": "code",
   "execution_count": 4,
   "metadata": {},
   "outputs": [
    {
     "data": {
      "text/html": [
       "<style>.container { width:100% !important; }</style>"
      ],
      "text/plain": [
       "<IPython.core.display.HTML object>"
      ]
     },
     "metadata": {},
     "output_type": "display_data"
    }
   ],
   "source": [
    "from IPython.core.display import display, HTML\n",
    "display(HTML(\"<style>.container { width:100% !important; }</style>\"))"
   ]
  },
  {
   "cell_type": "code",
   "execution_count": 5,
   "metadata": {},
   "outputs": [],
   "source": [
    "esa_df = pd.read_csv(r'''\\Users\\user13\\Olga's Research\\Bar Research\\ver\\es1.csv''')\n",
    "esa_df['Dates'] = pd.to_datetime(esa_df['Dates'], format='%m/%d/%Y %H:%M')\n",
    "esa_df.set_index('Dates', inplace=True)\n",
    "#Загружаем ES1 Index (generic) с 08-01-2020 по наст вр"
   ]
  },
  {
   "cell_type": "code",
   "execution_count": 17,
   "metadata": {},
   "outputs": [
    {
     "data": {
      "text/html": [
       "<div>\n",
       "<style scoped>\n",
       "    .dataframe tbody tr th:only-of-type {\n",
       "        vertical-align: middle;\n",
       "    }\n",
       "\n",
       "    .dataframe tbody tr th {\n",
       "        vertical-align: top;\n",
       "    }\n",
       "\n",
       "    .dataframe thead th {\n",
       "        text-align: right;\n",
       "    }\n",
       "</style>\n",
       "<table border=\"1\" class=\"dataframe\">\n",
       "  <thead>\n",
       "    <tr style=\"text-align: right;\">\n",
       "      <th></th>\n",
       "      <th>Open</th>\n",
       "      <th>Close</th>\n",
       "      <th>High</th>\n",
       "      <th>Low</th>\n",
       "      <th>Volume</th>\n",
       "      <th>price_change</th>\n",
       "      <th>proj_close</th>\n",
       "    </tr>\n",
       "    <tr>\n",
       "      <th>Dates</th>\n",
       "      <th></th>\n",
       "      <th></th>\n",
       "      <th></th>\n",
       "      <th></th>\n",
       "      <th></th>\n",
       "      <th></th>\n",
       "      <th></th>\n",
       "    </tr>\n",
       "  </thead>\n",
       "  <tbody>\n",
       "    <tr>\n",
       "      <th>2020-01-08 22:00:00</th>\n",
       "      <td>3261.25</td>\n",
       "      <td>3262.25</td>\n",
       "      <td>3263.25</td>\n",
       "      <td>3260.00</td>\n",
       "      <td>3771</td>\n",
       "      <td>1.00</td>\n",
       "      <td>3262.85</td>\n",
       "    </tr>\n",
       "    <tr>\n",
       "      <th>2020-01-08 22:10:00</th>\n",
       "      <td>3262.25</td>\n",
       "      <td>3264.25</td>\n",
       "      <td>3264.50</td>\n",
       "      <td>3261.75</td>\n",
       "      <td>1678</td>\n",
       "      <td>2.00</td>\n",
       "      <td>3264.05</td>\n",
       "    </tr>\n",
       "    <tr>\n",
       "      <th>2020-01-08 22:20:00</th>\n",
       "      <td>3264.25</td>\n",
       "      <td>3264.00</td>\n",
       "      <td>3264.75</td>\n",
       "      <td>3263.25</td>\n",
       "      <td>1459</td>\n",
       "      <td>-0.25</td>\n",
       "      <td>3264.65</td>\n",
       "    </tr>\n",
       "    <tr>\n",
       "      <th>2020-01-08 22:30:00</th>\n",
       "      <td>3264.25</td>\n",
       "      <td>3261.25</td>\n",
       "      <td>3264.25</td>\n",
       "      <td>3259.00</td>\n",
       "      <td>3069</td>\n",
       "      <td>-3.00</td>\n",
       "      <td>3264.25</td>\n",
       "    </tr>\n",
       "    <tr>\n",
       "      <th>2020-01-08 22:40:00</th>\n",
       "      <td>3261.00</td>\n",
       "      <td>3261.75</td>\n",
       "      <td>3262.50</td>\n",
       "      <td>3260.50</td>\n",
       "      <td>1987</td>\n",
       "      <td>0.75</td>\n",
       "      <td>3262.20</td>\n",
       "    </tr>\n",
       "    <tr>\n",
       "      <th>...</th>\n",
       "      <td>...</td>\n",
       "      <td>...</td>\n",
       "      <td>...</td>\n",
       "      <td>...</td>\n",
       "      <td>...</td>\n",
       "      <td>...</td>\n",
       "      <td>...</td>\n",
       "    </tr>\n",
       "    <tr>\n",
       "      <th>2020-07-23 06:30:00</th>\n",
       "      <td>3274.25</td>\n",
       "      <td>3274.50</td>\n",
       "      <td>3274.75</td>\n",
       "      <td>3273.00</td>\n",
       "      <td>1255</td>\n",
       "      <td>0.25</td>\n",
       "      <td>3274.65</td>\n",
       "    </tr>\n",
       "    <tr>\n",
       "      <th>2020-07-23 06:40:00</th>\n",
       "      <td>3274.50</td>\n",
       "      <td>3281.00</td>\n",
       "      <td>3284.50</td>\n",
       "      <td>3274.25</td>\n",
       "      <td>9001</td>\n",
       "      <td>6.50</td>\n",
       "      <td>3282.50</td>\n",
       "    </tr>\n",
       "    <tr>\n",
       "      <th>2020-07-23 06:50:00</th>\n",
       "      <td>3280.75</td>\n",
       "      <td>3280.75</td>\n",
       "      <td>3282.00</td>\n",
       "      <td>3280.00</td>\n",
       "      <td>2386</td>\n",
       "      <td>0.00</td>\n",
       "      <td>3281.75</td>\n",
       "    </tr>\n",
       "    <tr>\n",
       "      <th>2020-07-23 07:00:00</th>\n",
       "      <td>3280.50</td>\n",
       "      <td>3276.75</td>\n",
       "      <td>3282.50</td>\n",
       "      <td>3274.50</td>\n",
       "      <td>5889</td>\n",
       "      <td>-3.75</td>\n",
       "      <td>3282.10</td>\n",
       "    </tr>\n",
       "    <tr>\n",
       "      <th>2020-07-23 07:10:00</th>\n",
       "      <td>3277.00</td>\n",
       "      <td>3275.50</td>\n",
       "      <td>3277.00</td>\n",
       "      <td>3274.50</td>\n",
       "      <td>2988</td>\n",
       "      <td>-1.50</td>\n",
       "      <td>3277.00</td>\n",
       "    </tr>\n",
       "  </tbody>\n",
       "</table>\n",
       "<p>19043 rows × 7 columns</p>\n",
       "</div>"
      ],
      "text/plain": [
       "                        Open    Close     High      Low  Volume  price_change  \\\n",
       "Dates                                                                           \n",
       "2020-01-08 22:00:00  3261.25  3262.25  3263.25  3260.00    3771          1.00   \n",
       "2020-01-08 22:10:00  3262.25  3264.25  3264.50  3261.75    1678          2.00   \n",
       "2020-01-08 22:20:00  3264.25  3264.00  3264.75  3263.25    1459         -0.25   \n",
       "2020-01-08 22:30:00  3264.25  3261.25  3264.25  3259.00    3069         -3.00   \n",
       "2020-01-08 22:40:00  3261.00  3261.75  3262.50  3260.50    1987          0.75   \n",
       "...                      ...      ...      ...      ...     ...           ...   \n",
       "2020-07-23 06:30:00  3274.25  3274.50  3274.75  3273.00    1255          0.25   \n",
       "2020-07-23 06:40:00  3274.50  3281.00  3284.50  3274.25    9001          6.50   \n",
       "2020-07-23 06:50:00  3280.75  3280.75  3282.00  3280.00    2386          0.00   \n",
       "2020-07-23 07:00:00  3280.50  3276.75  3282.50  3274.50    5889         -3.75   \n",
       "2020-07-23 07:10:00  3277.00  3275.50  3277.00  3274.50    2988         -1.50   \n",
       "\n",
       "                     proj_close  \n",
       "Dates                            \n",
       "2020-01-08 22:00:00     3262.85  \n",
       "2020-01-08 22:10:00     3264.05  \n",
       "2020-01-08 22:20:00     3264.65  \n",
       "2020-01-08 22:30:00     3264.25  \n",
       "2020-01-08 22:40:00     3262.20  \n",
       "...                         ...  \n",
       "2020-07-23 06:30:00     3274.65  \n",
       "2020-07-23 06:40:00     3282.50  \n",
       "2020-07-23 06:50:00     3281.75  \n",
       "2020-07-23 07:00:00     3282.10  \n",
       "2020-07-23 07:10:00     3277.00  \n",
       "\n",
       "[19043 rows x 7 columns]"
      ]
     },
     "execution_count": 17,
     "metadata": {},
     "output_type": "execute_result"
    }
   ],
   "source": [
    "esa_df"
   ]
  },
  {
   "cell_type": "code",
   "execution_count": 18,
   "metadata": {},
   "outputs": [
    {
     "data": {
      "text/plain": [
       "19043"
      ]
     },
     "execution_count": 18,
     "metadata": {},
     "output_type": "execute_result"
    }
   ],
   "source": [
    "len(esa_df)"
   ]
  },
  {
   "cell_type": "code",
   "execution_count": 7,
   "metadata": {},
   "outputs": [],
   "source": [
    "def add_closes(df: pd.DataFrame) -> pd.DataFrame:\n",
    "\n",
    "    df['price_change'] = df['Close'] - df['Open']\n",
    "    df['proj_close'] = 0.8 * (df['High'] - df['Open']) + df['Open']\n",
    "\n",
    "    return df\n",
    "#Функция добавляет колонки условий"
   ]
  },
  {
   "cell_type": "code",
   "execution_count": 8,
   "metadata": {},
   "outputs": [
    {
     "data": {
      "text/html": [
       "<div>\n",
       "<style scoped>\n",
       "    .dataframe tbody tr th:only-of-type {\n",
       "        vertical-align: middle;\n",
       "    }\n",
       "\n",
       "    .dataframe tbody tr th {\n",
       "        vertical-align: top;\n",
       "    }\n",
       "\n",
       "    .dataframe thead th {\n",
       "        text-align: right;\n",
       "    }\n",
       "</style>\n",
       "<table border=\"1\" class=\"dataframe\">\n",
       "  <thead>\n",
       "    <tr style=\"text-align: right;\">\n",
       "      <th></th>\n",
       "      <th>Open</th>\n",
       "      <th>Close</th>\n",
       "      <th>High</th>\n",
       "      <th>Low</th>\n",
       "      <th>Volume</th>\n",
       "      <th>price_change</th>\n",
       "      <th>proj_close</th>\n",
       "    </tr>\n",
       "    <tr>\n",
       "      <th>Dates</th>\n",
       "      <th></th>\n",
       "      <th></th>\n",
       "      <th></th>\n",
       "      <th></th>\n",
       "      <th></th>\n",
       "      <th></th>\n",
       "      <th></th>\n",
       "    </tr>\n",
       "  </thead>\n",
       "  <tbody>\n",
       "    <tr>\n",
       "      <th>2020-01-08 22:00:00</th>\n",
       "      <td>3261.25</td>\n",
       "      <td>3262.25</td>\n",
       "      <td>3263.25</td>\n",
       "      <td>3260.00</td>\n",
       "      <td>3771</td>\n",
       "      <td>1.00</td>\n",
       "      <td>3262.85</td>\n",
       "    </tr>\n",
       "    <tr>\n",
       "      <th>2020-01-08 22:10:00</th>\n",
       "      <td>3262.25</td>\n",
       "      <td>3264.25</td>\n",
       "      <td>3264.50</td>\n",
       "      <td>3261.75</td>\n",
       "      <td>1678</td>\n",
       "      <td>2.00</td>\n",
       "      <td>3264.05</td>\n",
       "    </tr>\n",
       "    <tr>\n",
       "      <th>2020-01-08 22:20:00</th>\n",
       "      <td>3264.25</td>\n",
       "      <td>3264.00</td>\n",
       "      <td>3264.75</td>\n",
       "      <td>3263.25</td>\n",
       "      <td>1459</td>\n",
       "      <td>-0.25</td>\n",
       "      <td>3264.65</td>\n",
       "    </tr>\n",
       "    <tr>\n",
       "      <th>2020-01-08 22:30:00</th>\n",
       "      <td>3264.25</td>\n",
       "      <td>3261.25</td>\n",
       "      <td>3264.25</td>\n",
       "      <td>3259.00</td>\n",
       "      <td>3069</td>\n",
       "      <td>-3.00</td>\n",
       "      <td>3264.25</td>\n",
       "    </tr>\n",
       "    <tr>\n",
       "      <th>2020-01-08 22:40:00</th>\n",
       "      <td>3261.00</td>\n",
       "      <td>3261.75</td>\n",
       "      <td>3262.50</td>\n",
       "      <td>3260.50</td>\n",
       "      <td>1987</td>\n",
       "      <td>0.75</td>\n",
       "      <td>3262.20</td>\n",
       "    </tr>\n",
       "  </tbody>\n",
       "</table>\n",
       "</div>"
      ],
      "text/plain": [
       "                        Open    Close     High      Low  Volume  price_change  \\\n",
       "Dates                                                                           \n",
       "2020-01-08 22:00:00  3261.25  3262.25  3263.25  3260.00    3771          1.00   \n",
       "2020-01-08 22:10:00  3262.25  3264.25  3264.50  3261.75    1678          2.00   \n",
       "2020-01-08 22:20:00  3264.25  3264.00  3264.75  3263.25    1459         -0.25   \n",
       "2020-01-08 22:30:00  3264.25  3261.25  3264.25  3259.00    3069         -3.00   \n",
       "2020-01-08 22:40:00  3261.00  3261.75  3262.50  3260.50    1987          0.75   \n",
       "\n",
       "                     proj_close  \n",
       "Dates                            \n",
       "2020-01-08 22:00:00     3262.85  \n",
       "2020-01-08 22:10:00     3264.05  \n",
       "2020-01-08 22:20:00     3264.65  \n",
       "2020-01-08 22:30:00     3264.25  \n",
       "2020-01-08 22:40:00     3262.20  "
      ]
     },
     "execution_count": 8,
     "metadata": {},
     "output_type": "execute_result"
    }
   ],
   "source": [
    "esa_df = add_closes(esa_df)\n",
    "esa_df.head()\n",
    "# Из всех свечей с выбранным условием уберем те,  у которых price_change отриц, т е они идут вниз\n",
    "# Применим функцию, берущую только те свечи где Цена закрытия больше proj_close"
   ]
  },
  {
   "cell_type": "code",
   "execution_count": 9,
   "metadata": {},
   "outputs": [],
   "source": [
    "def get_rising_candles(df: pd.DataFrame) -> pd.DataFrame:\n",
    "    new_df = pd.DataFrame(columns=['group_no'])\n",
    "    # Apply main filter Close price >= projected Close Price AND price change > 0\n",
    "    tmp_df = df[(df['price_change'] > 0) & (df['Close'] >= df['proj_close'])]\n",
    "    stop_iter = len(tmp_df)\n",
    "\n",
    "    for i in range(stop_iter - 1):\n",
    "        if tmp_df.iloc[i+1].name - pd.Timedelta('10 m') == tmp_df.iloc[i].name:\n",
    "            new_df = new_df.append(tmp_df.iloc[i])\n",
    "            new_df = new_df.append(tmp_df.iloc[i+1])\n",
    "        else:\n",
    "            new_df.loc[new_df.group_no.isna(), 'group_no'] = i\n",
    "    \n",
    "    new_df.loc[new_df.group_no.isna(), 'group_no'] = stop_iter\n",
    "\n",
    "    new_df.drop_duplicates(inplace=True)\n",
    "    td = new_df.groupby('group_no')['group_no'].count().to_frame()\n",
    "    dd = {i:r['group_no'] for i, r in td.iterrows()}\n",
    "    new_df['group_q'] = new_df['group_no'].map(dd)\n",
    "    return new_df\n",
    "\n",
    "#Функция пропускает все данные через условия + где изменение цены больше 0,т е только положительные свечи"
   ]
  },
  {
   "cell_type": "code",
   "execution_count": 10,
   "metadata": {},
   "outputs": [
    {
     "data": {
      "text/html": [
       "<div>\n",
       "<style scoped>\n",
       "    .dataframe tbody tr th:only-of-type {\n",
       "        vertical-align: middle;\n",
       "    }\n",
       "\n",
       "    .dataframe tbody tr th {\n",
       "        vertical-align: top;\n",
       "    }\n",
       "\n",
       "    .dataframe thead th {\n",
       "        text-align: right;\n",
       "    }\n",
       "</style>\n",
       "<table border=\"1\" class=\"dataframe\">\n",
       "  <thead>\n",
       "    <tr style=\"text-align: right;\">\n",
       "      <th></th>\n",
       "      <th>group_no</th>\n",
       "      <th>Close</th>\n",
       "      <th>High</th>\n",
       "      <th>Low</th>\n",
       "      <th>Open</th>\n",
       "      <th>Volume</th>\n",
       "      <th>price_change</th>\n",
       "      <th>proj_close</th>\n",
       "      <th>group_q</th>\n",
       "    </tr>\n",
       "  </thead>\n",
       "  <tbody>\n",
       "    <tr>\n",
       "      <th>2020-01-09 03:20:00</th>\n",
       "      <td>10</td>\n",
       "      <td>3261.75</td>\n",
       "      <td>3261.75</td>\n",
       "      <td>3261.00</td>\n",
       "      <td>3261.25</td>\n",
       "      <td>390.0</td>\n",
       "      <td>0.50</td>\n",
       "      <td>3261.65</td>\n",
       "      <td>3</td>\n",
       "    </tr>\n",
       "    <tr>\n",
       "      <th>2020-01-09 03:30:00</th>\n",
       "      <td>10</td>\n",
       "      <td>3263.00</td>\n",
       "      <td>3263.00</td>\n",
       "      <td>3261.75</td>\n",
       "      <td>3261.75</td>\n",
       "      <td>803.0</td>\n",
       "      <td>1.25</td>\n",
       "      <td>3262.75</td>\n",
       "      <td>3</td>\n",
       "    </tr>\n",
       "    <tr>\n",
       "      <th>2020-01-09 03:40:00</th>\n",
       "      <td>10</td>\n",
       "      <td>3263.50</td>\n",
       "      <td>3263.50</td>\n",
       "      <td>3262.75</td>\n",
       "      <td>3263.00</td>\n",
       "      <td>592.0</td>\n",
       "      <td>0.50</td>\n",
       "      <td>3263.40</td>\n",
       "      <td>3</td>\n",
       "    </tr>\n",
       "    <tr>\n",
       "      <th>2020-01-09 12:30:00</th>\n",
       "      <td>17</td>\n",
       "      <td>3271.50</td>\n",
       "      <td>3271.50</td>\n",
       "      <td>3269.75</td>\n",
       "      <td>3270.00</td>\n",
       "      <td>5224.0</td>\n",
       "      <td>1.50</td>\n",
       "      <td>3271.20</td>\n",
       "      <td>2</td>\n",
       "    </tr>\n",
       "    <tr>\n",
       "      <th>2020-01-09 12:40:00</th>\n",
       "      <td>17</td>\n",
       "      <td>3271.75</td>\n",
       "      <td>3271.75</td>\n",
       "      <td>3270.75</td>\n",
       "      <td>3271.50</td>\n",
       "      <td>3544.0</td>\n",
       "      <td>0.25</td>\n",
       "      <td>3271.70</td>\n",
       "      <td>2</td>\n",
       "    </tr>\n",
       "  </tbody>\n",
       "</table>\n",
       "</div>"
      ],
      "text/plain": [
       "                    group_no    Close     High      Low     Open  Volume  \\\n",
       "2020-01-09 03:20:00       10  3261.75  3261.75  3261.00  3261.25   390.0   \n",
       "2020-01-09 03:30:00       10  3263.00  3263.00  3261.75  3261.75   803.0   \n",
       "2020-01-09 03:40:00       10  3263.50  3263.50  3262.75  3263.00   592.0   \n",
       "2020-01-09 12:30:00       17  3271.50  3271.50  3269.75  3270.00  5224.0   \n",
       "2020-01-09 12:40:00       17  3271.75  3271.75  3270.75  3271.50  3544.0   \n",
       "\n",
       "                     price_change  proj_close  group_q  \n",
       "2020-01-09 03:20:00          0.50     3261.65        3  \n",
       "2020-01-09 03:30:00          1.25     3262.75        3  \n",
       "2020-01-09 03:40:00          0.50     3263.40        3  \n",
       "2020-01-09 12:30:00          1.50     3271.20        2  \n",
       "2020-01-09 12:40:00          0.25     3271.70        2  "
      ]
     },
     "execution_count": 10,
     "metadata": {},
     "output_type": "execute_result"
    }
   ],
   "source": [
    "sorted_esa_df = get_rising_candles(esa_df)\n",
    "sorted_esa_df.head()"
   ]
  },
  {
   "cell_type": "code",
   "execution_count": 11,
   "metadata": {},
   "outputs": [
    {
     "data": {
      "text/html": [
       "<div>\n",
       "<style scoped>\n",
       "    .dataframe tbody tr th:only-of-type {\n",
       "        vertical-align: middle;\n",
       "    }\n",
       "\n",
       "    .dataframe tbody tr th {\n",
       "        vertical-align: top;\n",
       "    }\n",
       "\n",
       "    .dataframe thead th {\n",
       "        text-align: right;\n",
       "    }\n",
       "</style>\n",
       "<table border=\"1\" class=\"dataframe\">\n",
       "  <thead>\n",
       "    <tr style=\"text-align: right;\">\n",
       "      <th></th>\n",
       "      <th>group_no</th>\n",
       "      <th>Close</th>\n",
       "      <th>High</th>\n",
       "      <th>Low</th>\n",
       "      <th>Open</th>\n",
       "      <th>Volume</th>\n",
       "      <th>price_change</th>\n",
       "      <th>proj_close</th>\n",
       "      <th>group_q</th>\n",
       "    </tr>\n",
       "  </thead>\n",
       "  <tbody>\n",
       "    <tr>\n",
       "      <th>2020-01-09 03:20:00</th>\n",
       "      <td>10</td>\n",
       "      <td>3261.75</td>\n",
       "      <td>3261.75</td>\n",
       "      <td>3261.00</td>\n",
       "      <td>3261.25</td>\n",
       "      <td>390.0</td>\n",
       "      <td>0.50</td>\n",
       "      <td>3261.65</td>\n",
       "      <td>3</td>\n",
       "    </tr>\n",
       "    <tr>\n",
       "      <th>2020-01-09 03:30:00</th>\n",
       "      <td>10</td>\n",
       "      <td>3263.00</td>\n",
       "      <td>3263.00</td>\n",
       "      <td>3261.75</td>\n",
       "      <td>3261.75</td>\n",
       "      <td>803.0</td>\n",
       "      <td>1.25</td>\n",
       "      <td>3262.75</td>\n",
       "      <td>3</td>\n",
       "    </tr>\n",
       "    <tr>\n",
       "      <th>2020-01-09 03:40:00</th>\n",
       "      <td>10</td>\n",
       "      <td>3263.50</td>\n",
       "      <td>3263.50</td>\n",
       "      <td>3262.75</td>\n",
       "      <td>3263.00</td>\n",
       "      <td>592.0</td>\n",
       "      <td>0.50</td>\n",
       "      <td>3263.40</td>\n",
       "      <td>3</td>\n",
       "    </tr>\n",
       "    <tr>\n",
       "      <th>2020-01-09 12:30:00</th>\n",
       "      <td>17</td>\n",
       "      <td>3271.50</td>\n",
       "      <td>3271.50</td>\n",
       "      <td>3269.75</td>\n",
       "      <td>3270.00</td>\n",
       "      <td>5224.0</td>\n",
       "      <td>1.50</td>\n",
       "      <td>3271.20</td>\n",
       "      <td>2</td>\n",
       "    </tr>\n",
       "    <tr>\n",
       "      <th>2020-01-09 12:40:00</th>\n",
       "      <td>17</td>\n",
       "      <td>3271.75</td>\n",
       "      <td>3271.75</td>\n",
       "      <td>3270.75</td>\n",
       "      <td>3271.50</td>\n",
       "      <td>3544.0</td>\n",
       "      <td>0.25</td>\n",
       "      <td>3271.70</td>\n",
       "      <td>2</td>\n",
       "    </tr>\n",
       "  </tbody>\n",
       "</table>\n",
       "</div>"
      ],
      "text/plain": [
       "                    group_no    Close     High      Low     Open  Volume  \\\n",
       "2020-01-09 03:20:00       10  3261.75  3261.75  3261.00  3261.25   390.0   \n",
       "2020-01-09 03:30:00       10  3263.00  3263.00  3261.75  3261.75   803.0   \n",
       "2020-01-09 03:40:00       10  3263.50  3263.50  3262.75  3263.00   592.0   \n",
       "2020-01-09 12:30:00       17  3271.50  3271.50  3269.75  3270.00  5224.0   \n",
       "2020-01-09 12:40:00       17  3271.75  3271.75  3270.75  3271.50  3544.0   \n",
       "\n",
       "                     price_change  proj_close  group_q  \n",
       "2020-01-09 03:20:00          0.50     3261.65        3  \n",
       "2020-01-09 03:30:00          1.25     3262.75        3  \n",
       "2020-01-09 03:40:00          0.50     3263.40        3  \n",
       "2020-01-09 12:30:00          1.50     3271.20        2  \n",
       "2020-01-09 12:40:00          0.25     3271.70        2  "
      ]
     },
     "execution_count": 11,
     "metadata": {},
     "output_type": "execute_result"
    }
   ],
   "source": [
    "sorted_esa_df\n",
    "sorted_esa_df.head()\n",
    "# Переприсваиваем новый датафрейм - получаем только положительные свечи с выбранным условием которые идут подряд"
   ]
  },
  {
   "cell_type": "code",
   "execution_count": 12,
   "metadata": {},
   "outputs": [
    {
     "data": {
      "text/html": [
       "<div>\n",
       "<style scoped>\n",
       "    .dataframe tbody tr th:only-of-type {\n",
       "        vertical-align: middle;\n",
       "    }\n",
       "\n",
       "    .dataframe tbody tr th {\n",
       "        vertical-align: top;\n",
       "    }\n",
       "\n",
       "    .dataframe thead th {\n",
       "        text-align: right;\n",
       "    }\n",
       "</style>\n",
       "<table border=\"1\" class=\"dataframe\">\n",
       "  <thead>\n",
       "    <tr style=\"text-align: right;\">\n",
       "      <th></th>\n",
       "      <th>group_no</th>\n",
       "    </tr>\n",
       "    <tr>\n",
       "      <th>group_q</th>\n",
       "      <th></th>\n",
       "    </tr>\n",
       "  </thead>\n",
       "  <tbody>\n",
       "    <tr>\n",
       "      <th>2</th>\n",
       "      <td>380</td>\n",
       "    </tr>\n",
       "    <tr>\n",
       "      <th>3</th>\n",
       "      <td>56</td>\n",
       "    </tr>\n",
       "    <tr>\n",
       "      <th>4</th>\n",
       "      <td>7</td>\n",
       "    </tr>\n",
       "    <tr>\n",
       "      <th>5</th>\n",
       "      <td>2</td>\n",
       "    </tr>\n",
       "    <tr>\n",
       "      <th>7</th>\n",
       "      <td>1</td>\n",
       "    </tr>\n",
       "  </tbody>\n",
       "</table>\n",
       "</div>"
      ],
      "text/plain": [
       "         group_no\n",
       "group_q          \n",
       "2             380\n",
       "3              56\n",
       "4               7\n",
       "5               2\n",
       "7               1"
      ]
     },
     "execution_count": 12,
     "metadata": {},
     "output_type": "execute_result"
    }
   ],
   "source": [
    "# Calculate how many cases in here:\n",
    "\n",
    "sorted_esa_df[['group_no', 'group_q']].drop_duplicates().groupby('group_q')['group_no'].count().to_frame()"
   ]
  },
  {
   "cell_type": "code",
   "execution_count": 22,
   "metadata": {},
   "outputs": [
    {
     "name": "stdout",
     "output_type": "stream",
     "text": [
      "973\n"
     ]
    }
   ],
   "source": [
    "rising_candles = 2*380+3*56+7*4+5*2+7*1\n",
    "print(rising_candles)"
   ]
  },
  {
   "cell_type": "code",
   "execution_count": 24,
   "metadata": {},
   "outputs": [
    {
     "data": {
      "text/plain": [
       "5.109489051094891"
      ]
     },
     "execution_count": 24,
     "metadata": {},
     "output_type": "execute_result"
    }
   ],
   "source": [
    "973*100/19043"
   ]
  },
  {
   "cell_type": "code",
   "execution_count": 13,
   "metadata": {},
   "outputs": [
    {
     "data": {
      "text/plain": [
       "446"
      ]
     },
     "execution_count": 13,
     "metadata": {},
     "output_type": "execute_result"
    }
   ],
   "source": [
    "len(sorted_esa_df.group_no.unique())"
   ]
  },
  {
   "cell_type": "code",
   "execution_count": 25,
   "metadata": {},
   "outputs": [],
   "source": [
    "tmp_df = sorted_esa_df.loc['2020-07-06':'2020-07-06']"
   ]
  },
  {
   "cell_type": "code",
   "execution_count": 26,
   "metadata": {},
   "outputs": [
    {
     "data": {
      "image/png": "[encoded data removed]",
      "text/plain": [
       "<Figure size 800x575 with 2 Axes>"
      ]
     },
     "metadata": {},
     "output_type": "display_data"
    }
   ],
   "source": [
    "mpf.plot(tmp_df, type='candlestick')"
   ]
  },
  {
   "cell_type": "code",
   "execution_count": 16,
   "metadata": {},
   "outputs": [
    {
     "data": {
      "application/vnd.plotly.v1+json": {
       "config": {
        "plotlyServerURL": "https://plot.ly"
       },
       "data": [
        {
         "close": [
          3084.75,
          3085.75,
          3095,
          3101.5,
          3120.5,
          3122.75,
          3137.25,
          3141.25,
          3136.75,
          3140.5,
          3127.5,
          3131.75,
          3133.75,
          3112,
          3115.25,
          3133,
          3133.5,
          3149.75,
          3152,
          3167.5,
          3169.5,
          3161.5,
          3162.75,
          3145,
          3145.75,
          3143.25,
          3145.25,
          3143.25,
          3145,
          3145.25,
          3145.5,
          3153.25,
          3157.75,
          3160.5,
          3145.5,
          3149.25,
          3159.75,
          3163.75,
          3160.5,
          3165.25,
          3169.5,
          3170.5,
          3120.5,
          3130.75,
          3138,
          3144.75,
          3144.5,
          3145,
          3148.5,
          3155.25,
          3157.25,
          3196.75,
          3200.75,
          3202.25,
          3205.5,
          3210,
          3153.25,
          3154,
          3161,
          3162.25,
          3159,
          3160.5,
          3210,
          3214.5,
          3203.5,
          3210.25,
          3212.75,
          3219.25,
          3224.75,
          3207.5,
          3210.25,
          3215,
          3210.25,
          3215.5,
          3194.5,
          3196.25,
          3200.25,
          3207,
          3203.75,
          3206,
          3205.75,
          3206,
          3203,
          3203,
          3203.5,
          3205,
          3209,
          3204.5,
          3209.5,
          3212.5,
          3217,
          3220,
          3201.5,
          3207.25,
          3216.5,
          3220.25,
          3226.5,
          3227,
          3229.25,
          3231.75,
          3232.5,
          3243,
          3243.5,
          3247.5,
          3248.5,
          3268.75,
          3269.75,
          3258.5,
          3259.25,
          3254,
          3255,
          3254.25,
          3255.5,
          3262.5,
          3269.75
         ],
         "high": [
          3084.75,
          3086,
          3095.75,
          3102.25,
          3120.75,
          3123.25,
          3137.5,
          3141.25,
          3137,
          3141,
          3127.75,
          3132.5,
          3134.25,
          3112.25,
          3115.75,
          3133,
          3133.5,
          3149.75,
          3152.25,
          3167.75,
          3169.5,
          3161.75,
          3162.75,
          3145,
          3145.75,
          3143.25,
          3145.5,
          3143.5,
          3145.25,
          3145.25,
          3145.5,
          3153.5,
          3158.5,
          3161,
          3146.5,
          3149.5,
          3160.25,
          3164.5,
          3160.75,
          3166.25,
          3169.75,
          3170.75,
          3121.25,
          3132,
          3139,
          3145.5,
          3144.5,
          3145,
          3149,
          3155.75,
          3157.75,
          3197.25,
          3200.75,
          3202.25,
          3205.75,
          3210,
          3154.25,
          3154,
          3162,
          3162.25,
          3159.25,
          3160.75,
          3210,
          3214.75,
          3203.75,
          3211.25,
          3213,
          3219.25,
          3225,
          3208.75,
          3210.75,
          3215.25,
          3210.25,
          3216,
          3194.75,
          3196.5,
          3200.5,
          3207.75,
          3204,
          3206.5,
          3205.75,
          3206,
          3203.5,
          3203,
          3203.5,
          3205.25,
          3209.25,
          3205,
          3209.75,
          3212.75,
          3217,
          3220,
          3201.75,
          3207.75,
          3217.75,
          3220.25,
          3226.5,
          3227,
          3229.5,
          3232,
          3232.5,
          3243,
          3243.5,
          3247.75,
          3248.75,
          3269,
          3269.75,
          3258.5,
          3259.25,
          3254,
          3255.25,
          3254.5,
          3255.75,
          3262.75,
          3270.5
         ],
         "low": [
          3082.5,
          3084.25,
          3090.75,
          3094.25,
          3118.75,
          3119,
          3135,
          3136.5,
          3134.75,
          3135.25,
          3123.5,
          3127.25,
          3130.75,
          3108.5,
          3111.5,
          3129.75,
          3131.25,
          3145.75,
          3148.75,
          3159.25,
          3166.25,
          3158,
          3159.75,
          3141.5,
          3143.75,
          3139.75,
          3142,
          3139.5,
          3142.75,
          3143.25,
          3143.75,
          3140.25,
          3151.5,
          3156.25,
          3137.5,
          3144,
          3154.75,
          3158.5,
          3158.75,
          3159.75,
          3166.5,
          3169,
          3113.75,
          3119,
          3130.25,
          3136.75,
          3143.5,
          3144,
          3144.75,
          3148,
          3154.25,
          3191.5,
          3195.75,
          3191,
          3201.25,
          3204.75,
          3144.75,
          3151.5,
          3153.75,
          3158.75,
          3156.5,
          3157.75,
          3204.75,
          3209,
          3200.5,
          3203,
          3208.5,
          3211,
          3219,
          3197.5,
          3207,
          3206.5,
          3201.25,
          3207.25,
          3191.25,
          3194,
          3194.25,
          3199.75,
          3202.5,
          3203,
          3204,
          3204.5,
          3199.5,
          3201.5,
          3202,
          3203,
          3204.75,
          3199.75,
          3204,
          3208.75,
          3211.5,
          3215.75,
          3196,
          3201.25,
          3208.5,
          3215.25,
          3219,
          3223,
          3225.5,
          3228.75,
          3231.25,
          3241.75,
          3241.75,
          3245.5,
          3246.5,
          3265.75,
          3268.25,
          3256.5,
          3257.5,
          3251,
          3252,
          3248,
          3252.75,
          3258.75,
          3262.25
         ],
         "open": [
          3083.75,
          3084.75,
          3091.75,
          3095,
          3119,
          3120.25,
          3136,
          3137.5,
          3135,
          3136.75,
          3123.5,
          3127.5,
          3131.75,
          3109.5,
          3112.25,
          3131,
          3133,
          3146.25,
          3149.75,
          3162,
          3167.5,
          3160.5,
          3161.5,
          3142,
          3145,
          3142,
          3143.25,
          3140.75,
          3143.25,
          3145,
          3145,
          3145,
          3153.5,
          3157.5,
          3140,
          3145.5,
          3155.5,
          3159.75,
          3159.25,
          3160.5,
          3167.75,
          3169.5,
          3117.25,
          3120.75,
          3132.25,
          3137.75,
          3144.25,
          3144.5,
          3145,
          3151.25,
          3155.25,
          3191.5,
          3196.75,
          3195.25,
          3202.25,
          3205.25,
          3145,
          3153.5,
          3155.75,
          3161,
          3156.75,
          3159,
          3207.25,
          3210,
          3201.25,
          3203.25,
          3210.25,
          3216,
          3219,
          3198.75,
          3207.25,
          3210.25,
          3208.25,
          3210,
          3192.5,
          3194.5,
          3196.25,
          3200.25,
          3202.75,
          3203.75,
          3205,
          3205.5,
          3200.5,
          3202.75,
          3202.5,
          3203.75,
          3204.75,
          3202,
          3204.5,
          3209.5,
          3212,
          3216.75,
          3198.5,
          3201.5,
          3211.5,
          3216.5,
          3220,
          3226,
          3227,
          3229,
          3231.75,
          3241.75,
          3243,
          3246.25,
          3247.25,
          3266,
          3268.75,
          3258.25,
          3258.5,
          3252.25,
          3254,
          3248.75,
          3254.5,
          3260.25,
          3262.5
         ],
         "type": "candlestick",
         "x": [
          "2020-07-01T03:30:00",
          "2020-07-01T03:40:00",
          "2020-07-01T15:30:00",
          "2020-07-01T15:40:00",
          "2020-07-02T10:20:00",
          "2020-07-02T10:30:00",
          "2020-07-02T17:30:00",
          "2020-07-02T17:40:00",
          "2020-07-02T18:10:00",
          "2020-07-02T18:20:00",
          "2020-07-03T05:50:00",
          "2020-07-03T06:00:00",
          "2020-07-03T06:10:00",
          "2020-07-03T15:20:00",
          "2020-07-03T15:30:00",
          "2020-07-05T23:20:00",
          "2020-07-05T23:30:00",
          "2020-07-06T01:20:00",
          "2020-07-06T01:30:00",
          "2020-07-06T14:40:00",
          "2020-07-06T14:50:00",
          "2020-07-07T16:40:00",
          "2020-07-07T16:50:00",
          "2020-07-08T00:10:00",
          "2020-07-08T00:20:00",
          "2020-07-08T00:50:00",
          "2020-07-08T01:00:00",
          "2020-07-08T02:30:00",
          "2020-07-08T02:40:00",
          "2020-07-08T02:50:00",
          "2020-07-08T03:00:00",
          "2020-07-08T13:30:00",
          "2020-07-08T13:40:00",
          "2020-07-08T13:50:00",
          "2020-07-08T18:50:00",
          "2020-07-08T19:00:00",
          "2020-07-09T07:50:00",
          "2020-07-09T08:00:00",
          "2020-07-09T11:10:00",
          "2020-07-09T11:20:00",
          "2020-07-09T12:30:00",
          "2020-07-09T12:40:00",
          "2020-07-09T15:50:00",
          "2020-07-09T16:00:00",
          "2020-07-09T18:00:00",
          "2020-07-09T18:10:00",
          "2020-07-09T23:00:00",
          "2020-07-09T23:10:00",
          "2020-07-09T23:20:00",
          "2020-07-10T16:40:00",
          "2020-07-10T16:50:00",
          "2020-07-13T10:50:00",
          "2020-07-13T11:00:00",
          "2020-07-13T14:00:00",
          "2020-07-13T14:10:00",
          "2020-07-13T14:20:00",
          "2020-07-14T01:30:00",
          "2020-07-14T01:40:00",
          "2020-07-14T09:10:00",
          "2020-07-14T09:20:00",
          "2020-07-14T10:40:00",
          "2020-07-14T10:50:00",
          "2020-07-14T23:50:00",
          "2020-07-15T00:00:00",
          "2020-07-15T10:00:00",
          "2020-07-15T10:10:00",
          "2020-07-15T10:20:00",
          "2020-07-15T14:10:00",
          "2020-07-15T14:20:00",
          "2020-07-15T16:40:00",
          "2020-07-15T16:50:00",
          "2020-07-15T17:00:00",
          "2020-07-15T19:10:00",
          "2020-07-15T19:20:00",
          "2020-07-16T09:20:00",
          "2020-07-16T09:30:00",
          "2020-07-16T19:10:00",
          "2020-07-16T19:20:00",
          "2020-07-16T23:50:00",
          "2020-07-17T00:00:00",
          "2020-07-17T00:30:00",
          "2020-07-17T00:40:00",
          "2020-07-17T08:30:00",
          "2020-07-17T08:40:00",
          "2020-07-17T10:00:00",
          "2020-07-17T10:10:00",
          "2020-07-17T10:20:00",
          "2020-07-17T14:40:00",
          "2020-07-17T14:50:00",
          "2020-07-17T15:00:00",
          "2020-07-17T18:00:00",
          "2020-07-17T18:10:00",
          "2020-07-20T08:30:00",
          "2020-07-20T08:40:00",
          "2020-07-20T14:00:00",
          "2020-07-20T14:10:00",
          "2020-07-20T14:20:00",
          "2020-07-20T15:20:00",
          "2020-07-20T15:30:00",
          "2020-07-20T17:10:00",
          "2020-07-20T17:20:00",
          "2020-07-20T22:50:00",
          "2020-07-20T23:00:00",
          "2020-07-21T03:20:00",
          "2020-07-21T03:30:00",
          "2020-07-21T11:10:00",
          "2020-07-21T11:20:00",
          "2020-07-22T01:40:00",
          "2020-07-22T01:50:00",
          "2020-07-22T06:50:00",
          "2020-07-22T07:00:00",
          "2020-07-22T15:20:00",
          "2020-07-22T15:30:00",
          "2020-07-22T19:30:00",
          "2020-07-22T19:40:00"
         ]
        }
       ],
       "layout": {
        "height": 500,
        "template": {
         "data": {
          "bar": [
           {
            "error_x": {
             "color": "#2a3f5f"
            },
            "error_y": {
             "color": "#2a3f5f"
            },
            "marker": {
             "line": {
              "color": "#E5ECF6",
              "width": 0.5
             }
            },
            "type": "bar"
           }
          ],
          "barpolar": [
           {
            "marker": {
             "line": {
              "color": "#E5ECF6",
              "width": 0.5
             }
            },
            "type": "barpolar"
           }
          ],
          "carpet": [
           {
            "aaxis": {
             "endlinecolor": "#2a3f5f",
             "gridcolor": "white",
             "linecolor": "white",
             "minorgridcolor": "white",
             "startlinecolor": "#2a3f5f"
            },
            "baxis": {
             "endlinecolor": "#2a3f5f",
             "gridcolor": "white",
             "linecolor": "white",
             "minorgridcolor": "white",
             "startlinecolor": "#2a3f5f"
            },
            "type": "carpet"
           }
          ],
          "choropleth": [
           {
            "colorbar": {
             "outlinewidth": 0,
             "ticks": ""
            },
            "type": "choropleth"
           }
          ],
          "contour": [
           {
            "colorbar": {
             "outlinewidth": 0,
             "ticks": ""
            },
            "colorscale": [
             [
              0,
              "#0d0887"
             ],
             [
              0.1111111111111111,
              "#46039f"
             ],
             [
              0.2222222222222222,
              "#7201a8"
             ],
             [
              0.3333333333333333,
              "#9c179e"
             ],
             [
              0.4444444444444444,
              "#bd3786"
             ],
             [
              0.5555555555555556,
              "#d8576b"
             ],
             [
              0.6666666666666666,
              "#ed7953"
             ],
             [
              0.7777777777777778,
              "#fb9f3a"
             ],
             [
              0.8888888888888888,
              "#fdca26"
             ],
             [
              1,
              "#f0f921"
             ]
            ],
            "type": "contour"
           }
          ],
          "contourcarpet": [
           {
            "colorbar": {
             "outlinewidth": 0,
             "ticks": ""
            },
            "type": "contourcarpet"
           }
          ],
          "heatmap": [
           {
            "colorbar": {
             "outlinewidth": 0,
             "ticks": ""
            },
            "colorscale": [
             [
              0,
              "#0d0887"
             ],
             [
              0.1111111111111111,
              "#46039f"
             ],
             [
              0.2222222222222222,
              "#7201a8"
             ],
             [
              0.3333333333333333,
              "#9c179e"
             ],
             [
              0.4444444444444444,
              "#bd3786"
             ],
             [
              0.5555555555555556,
              "#d8576b"
             ],
             [
              0.6666666666666666,
              "#ed7953"
             ],
             [
              0.7777777777777778,
              "#fb9f3a"
             ],
             [
              0.8888888888888888,
              "#fdca26"
             ],
             [
              1,
              "#f0f921"
             ]
            ],
            "type": "heatmap"
           }
          ],
          "heatmapgl": [
           {
            "colorbar": {
             "outlinewidth": 0,
             "ticks": ""
            },
            "colorscale": [
             [
              0,
              "#0d0887"
             ],
             [
              0.1111111111111111,
              "#46039f"
             ],
             [
              0.2222222222222222,
              "#7201a8"
             ],
             [
              0.3333333333333333,
              "#9c179e"
             ],
             [
              0.4444444444444444,
              "#bd3786"
             ],
             [
              0.5555555555555556,
              "#d8576b"
             ],
             [
              0.6666666666666666,
              "#ed7953"
             ],
             [
              0.7777777777777778,
              "#fb9f3a"
             ],
             [
              0.8888888888888888,
              "#fdca26"
             ],
             [
              1,
              "#f0f921"
             ]
            ],
            "type": "heatmapgl"
           }
          ],
          "histogram": [
           {
            "marker": {
             "colorbar": {
              "outlinewidth": 0,
              "ticks": ""
             }
            },
            "type": "histogram"
           }
          ],
          "histogram2d": [
           {
            "colorbar": {
             "outlinewidth": 0,
             "ticks": ""
            },
            "colorscale": [
             [
              0,
              "#0d0887"
             ],
             [
              0.1111111111111111,
              "#46039f"
             ],
             [
              0.2222222222222222,
              "#7201a8"
             ],
             [
              0.3333333333333333,
              "#9c179e"
             ],
             [
              0.4444444444444444,
              "#bd3786"
             ],
             [
              0.5555555555555556,
              "#d8576b"
             ],
             [
              0.6666666666666666,
              "#ed7953"
             ],
             [
              0.7777777777777778,
              "#fb9f3a"
             ],
             [
              0.8888888888888888,
              "#fdca26"
             ],
             [
              1,
              "#f0f921"
             ]
            ],
            "type": "histogram2d"
           }
          ],
          "histogram2dcontour": [
           {
            "colorbar": {
             "outlinewidth": 0,
             "ticks": ""
            },
            "colorscale": [
             [
              0,
              "#0d0887"
             ],
             [
              0.1111111111111111,
              "#46039f"
             ],
             [
              0.2222222222222222,
              "#7201a8"
             ],
             [
              0.3333333333333333,
              "#9c179e"
             ],
             [
              0.4444444444444444,
              "#bd3786"
             ],
             [
              0.5555555555555556,
              "#d8576b"
             ],
             [
              0.6666666666666666,
              "#ed7953"
             ],
             [
              0.7777777777777778,
              "#fb9f3a"
             ],
             [
              0.8888888888888888,
              "#fdca26"
             ],
             [
              1,
              "#f0f921"
             ]
            ],
            "type": "histogram2dcontour"
           }
          ],
          "mesh3d": [
           {
            "colorbar": {
             "outlinewidth": 0,
             "ticks": ""
            },
            "type": "mesh3d"
           }
          ],
          "parcoords": [
           {
            "line": {
             "colorbar": {
              "outlinewidth": 0,
              "ticks": ""
             }
            },
            "type": "parcoords"
           }
          ],
          "pie": [
           {
            "automargin": true,
            "type": "pie"
           }
          ],
          "scatter": [
           {
            "marker": {
             "colorbar": {
              "outlinewidth": 0,
              "ticks": ""
             }
            },
            "type": "scatter"
           }
          ],
          "scatter3d": [
           {
            "line": {
             "colorbar": {
              "outlinewidth": 0,
              "ticks": ""
             }
            },
            "marker": {
             "colorbar": {
              "outlinewidth": 0,
              "ticks": ""
             }
            },
            "type": "scatter3d"
           }
          ],
          "scattercarpet": [
           {
            "marker": {
             "colorbar": {
              "outlinewidth": 0,
              "ticks": ""
             }
            },
            "type": "scattercarpet"
           }
          ],
          "scattergeo": [
           {
            "marker": {
             "colorbar": {
              "outlinewidth": 0,
              "ticks": ""
             }
            },
            "type": "scattergeo"
           }
          ],
          "scattergl": [
           {
            "marker": {
             "colorbar": {
              "outlinewidth": 0,
              "ticks": ""
             }
            },
            "type": "scattergl"
           }
          ],
          "scattermapbox": [
           {
            "marker": {
             "colorbar": {
              "outlinewidth": 0,
              "ticks": ""
             }
            },
            "type": "scattermapbox"
           }
          ],
          "scatterpolar": [
           {
            "marker": {
             "colorbar": {
              "outlinewidth": 0,
              "ticks": ""
             }
            },
            "type": "scatterpolar"
           }
          ],
          "scatterpolargl": [
           {
            "marker": {
             "colorbar": {
              "outlinewidth": 0,
              "ticks": ""
             }
            },
            "type": "scatterpolargl"
           }
          ],
          "scatterternary": [
           {
            "marker": {
             "colorbar": {
              "outlinewidth": 0,
              "ticks": ""
             }
            },
            "type": "scatterternary"
           }
          ],
          "surface": [
           {
            "colorbar": {
             "outlinewidth": 0,
             "ticks": ""
            },
            "colorscale": [
             [
              0,
              "#0d0887"
             ],
             [
              0.1111111111111111,
              "#46039f"
             ],
             [
              0.2222222222222222,
              "#7201a8"
             ],
             [
              0.3333333333333333,
              "#9c179e"
             ],
             [
              0.4444444444444444,
              "#bd3786"
             ],
             [
              0.5555555555555556,
              "#d8576b"
             ],
             [
              0.6666666666666666,
              "#ed7953"
             ],
             [
              0.7777777777777778,
              "#fb9f3a"
             ],
             [
              0.8888888888888888,
              "#fdca26"
             ],
             [
              1,
              "#f0f921"
             ]
            ],
            "type": "surface"
           }
          ],
          "table": [
           {
            "cells": {
             "fill": {
              "color": "#EBF0F8"
             },
             "line": {
              "color": "white"
             }
            },
            "header": {
             "fill": {
              "color": "#C8D4E3"
             },
             "line": {
              "color": "white"
             }
            },
            "type": "table"
           }
          ]
         },
         "layout": {
          "annotationdefaults": {
           "arrowcolor": "#2a3f5f",
           "arrowhead": 0,
           "arrowwidth": 1
          },
          "coloraxis": {
           "colorbar": {
            "outlinewidth": 0,
            "ticks": ""
           }
          },
          "colorscale": {
           "diverging": [
            [
             0,
             "#8e0152"
            ],
            [
             0.1,
             "#c51b7d"
            ],
            [
             0.2,
             "#de77ae"
            ],
            [
             0.3,
             "#f1b6da"
            ],
            [
             0.4,
             "#fde0ef"
            ],
            [
             0.5,
             "#f7f7f7"
            ],
            [
             0.6,
             "#e6f5d0"
            ],
            [
             0.7,
             "#b8e186"
            ],
            [
             0.8,
             "#7fbc41"
            ],
            [
             0.9,
             "#4d9221"
            ],
            [
             1,
             "#276419"
            ]
           ],
           "sequential": [
            [
             0,
             "#0d0887"
            ],
            [
             0.1111111111111111,
             "#46039f"
            ],
            [
             0.2222222222222222,
             "#7201a8"
            ],
            [
             0.3333333333333333,
             "#9c179e"
            ],
            [
             0.4444444444444444,
             "#bd3786"
            ],
            [
             0.5555555555555556,
             "#d8576b"
            ],
            [
             0.6666666666666666,
             "#ed7953"
            ],
            [
             0.7777777777777778,
             "#fb9f3a"
            ],
            [
             0.8888888888888888,
             "#fdca26"
            ],
            [
             1,
             "#f0f921"
            ]
           ],
           "sequentialminus": [
            [
             0,
             "#0d0887"
            ],
            [
             0.1111111111111111,
             "#46039f"
            ],
            [
             0.2222222222222222,
             "#7201a8"
            ],
            [
             0.3333333333333333,
             "#9c179e"
            ],
            [
             0.4444444444444444,
             "#bd3786"
            ],
            [
             0.5555555555555556,
             "#d8576b"
            ],
            [
             0.6666666666666666,
             "#ed7953"
            ],
            [
             0.7777777777777778,
             "#fb9f3a"
            ],
            [
             0.8888888888888888,
             "#fdca26"
            ],
            [
             1,
             "#f0f921"
            ]
           ]
          },
          "colorway": [
           "#636efa",
           "#EF553B",
           "#00cc96",
           "#ab63fa",
           "#FFA15A",
           "#19d3f3",
           "#FF6692",
           "#B6E880",
           "#FF97FF",
           "#FECB52"
          ],
          "font": {
           "color": "#2a3f5f"
          },
          "geo": {
           "bgcolor": "white",
           "lakecolor": "white",
           "landcolor": "#E5ECF6",
           "showlakes": true,
           "showland": true,
           "subunitcolor": "white"
          },
          "hoverlabel": {
           "align": "left"
          },
          "hovermode": "closest",
          "mapbox": {
           "style": "light"
          },
          "paper_bgcolor": "white",
          "plot_bgcolor": "#E5ECF6",
          "polar": {
           "angularaxis": {
            "gridcolor": "white",
            "linecolor": "white",
            "ticks": ""
           },
           "bgcolor": "#E5ECF6",
           "radialaxis": {
            "gridcolor": "white",
            "linecolor": "white",
            "ticks": ""
           }
          },
          "scene": {
           "xaxis": {
            "backgroundcolor": "#E5ECF6",
            "gridcolor": "white",
            "gridwidth": 2,
            "linecolor": "white",
            "showbackground": true,
            "ticks": "",
            "zerolinecolor": "white"
           },
           "yaxis": {
            "backgroundcolor": "#E5ECF6",
            "gridcolor": "white",
            "gridwidth": 2,
            "linecolor": "white",
            "showbackground": true,
            "ticks": "",
            "zerolinecolor": "white"
           },
           "zaxis": {
            "backgroundcolor": "#E5ECF6",
            "gridcolor": "white",
            "gridwidth": 2,
            "linecolor": "white",
            "showbackground": true,
            "ticks": "",
            "zerolinecolor": "white"
           }
          },
          "shapedefaults": {
           "line": {
            "color": "#2a3f5f"
           }
          },
          "ternary": {
           "aaxis": {
            "gridcolor": "white",
            "linecolor": "white",
            "ticks": ""
           },
           "baxis": {
            "gridcolor": "white",
            "linecolor": "white",
            "ticks": ""
           },
           "bgcolor": "#E5ECF6",
           "caxis": {
            "gridcolor": "white",
            "linecolor": "white",
            "ticks": ""
           }
          },
          "title": {
           "x": 0.05
          },
          "xaxis": {
           "automargin": true,
           "gridcolor": "white",
           "linecolor": "white",
           "ticks": "",
           "title": {
            "standoff": 15
           },
           "zerolinecolor": "white",
           "zerolinewidth": 2
          },
          "yaxis": {
           "automargin": true,
           "gridcolor": "white",
           "linecolor": "white",
           "ticks": "",
           "title": {
            "standoff": 15
           },
           "zerolinecolor": "white",
           "zerolinewidth": 2
          }
         }
        }
       }
      },
      "text/html": [
       "<div>\n",
       "        \n",
       "        \n",
       "            <div id=\"b450e47e-50ec-4065-9a02-95789aff622a\" class=\"plotly-graph-div\" style=\"height:500px; width:100%;\"></div>\n",
       "            <script type=\"text/javascript\">\n",
       "                require([\"plotly\"], function(Plotly) {\n",
       "                    window.PLOTLYENV=window.PLOTLYENV || {};\n",
       "                    \n",
       "                if (document.getElementById(\"b450e47e-50ec-4065-9a02-95789aff622a\")) {\n",
       "                    Plotly.newPlot(\n",
       "                        'b450e47e-50ec-4065-9a02-95789aff622a',\n",
       "                        [{\"close\": [3084.75, 3085.75, 3095.0, 3101.5, 3120.5, 3122.75, 3137.25, 3141.25, 3136.75, 3140.5, 3127.5, 3131.75, 3133.75, 3112.0, 3115.25, 3133.0, 3133.5, 3149.75, 3152.0, 3167.5, 3169.5, 3161.5, 3162.75, 3145.0, 3145.75, 3143.25, 3145.25, 3143.25, 3145.0, 3145.25, 3145.5, 3153.25, 3157.75, 3160.5, 3145.5, 3149.25, 3159.75, 3163.75, 3160.5, 3165.25, 3169.5, 3170.5, 3120.5, 3130.75, 3138.0, 3144.75, 3144.5, 3145.0, 3148.5, 3155.25, 3157.25, 3196.75, 3200.75, 3202.25, 3205.5, 3210.0, 3153.25, 3154.0, 3161.0, 3162.25, 3159.0, 3160.5, 3210.0, 3214.5, 3203.5, 3210.25, 3212.75, 3219.25, 3224.75, 3207.5, 3210.25, 3215.0, 3210.25, 3215.5, 3194.5, 3196.25, 3200.25, 3207.0, 3203.75, 3206.0, 3205.75, 3206.0, 3203.0, 3203.0, 3203.5, 3205.0, 3209.0, 3204.5, 3209.5, 3212.5, 3217.0, 3220.0, 3201.5, 3207.25, 3216.5, 3220.25, 3226.5, 3227.0, 3229.25, 3231.75, 3232.5, 3243.0, 3243.5, 3247.5, 3248.5, 3268.75, 3269.75, 3258.5, 3259.25, 3254.0, 3255.0, 3254.25, 3255.5, 3262.5, 3269.75], \"high\": [3084.75, 3086.0, 3095.75, 3102.25, 3120.75, 3123.25, 3137.5, 3141.25, 3137.0, 3141.0, 3127.75, 3132.5, 3134.25, 3112.25, 3115.75, 3133.0, 3133.5, 3149.75, 3152.25, 3167.75, 3169.5, 3161.75, 3162.75, 3145.0, 3145.75, 3143.25, 3145.5, 3143.5, 3145.25, 3145.25, 3145.5, 3153.5, 3158.5, 3161.0, 3146.5, 3149.5, 3160.25, 3164.5, 3160.75, 3166.25, 3169.75, 3170.75, 3121.25, 3132.0, 3139.0, 3145.5, 3144.5, 3145.0, 3149.0, 3155.75, 3157.75, 3197.25, 3200.75, 3202.25, 3205.75, 3210.0, 3154.25, 3154.0, 3162.0, 3162.25, 3159.25, 3160.75, 3210.0, 3214.75, 3203.75, 3211.25, 3213.0, 3219.25, 3225.0, 3208.75, 3210.75, 3215.25, 3210.25, 3216.0, 3194.75, 3196.5, 3200.5, 3207.75, 3204.0, 3206.5, 3205.75, 3206.0, 3203.5, 3203.0, 3203.5, 3205.25, 3209.25, 3205.0, 3209.75, 3212.75, 3217.0, 3220.0, 3201.75, 3207.75, 3217.75, 3220.25, 3226.5, 3227.0, 3229.5, 3232.0, 3232.5, 3243.0, 3243.5, 3247.75, 3248.75, 3269.0, 3269.75, 3258.5, 3259.25, 3254.0, 3255.25, 3254.5, 3255.75, 3262.75, 3270.5], \"low\": [3082.5, 3084.25, 3090.75, 3094.25, 3118.75, 3119.0, 3135.0, 3136.5, 3134.75, 3135.25, 3123.5, 3127.25, 3130.75, 3108.5, 3111.5, 3129.75, 3131.25, 3145.75, 3148.75, 3159.25, 3166.25, 3158.0, 3159.75, 3141.5, 3143.75, 3139.75, 3142.0, 3139.5, 3142.75, 3143.25, 3143.75, 3140.25, 3151.5, 3156.25, 3137.5, 3144.0, 3154.75, 3158.5, 3158.75, 3159.75, 3166.5, 3169.0, 3113.75, 3119.0, 3130.25, 3136.75, 3143.5, 3144.0, 3144.75, 3148.0, 3154.25, 3191.5, 3195.75, 3191.0, 3201.25, 3204.75, 3144.75, 3151.5, 3153.75, 3158.75, 3156.5, 3157.75, 3204.75, 3209.0, 3200.5, 3203.0, 3208.5, 3211.0, 3219.0, 3197.5, 3207.0, 3206.5, 3201.25, 3207.25, 3191.25, 3194.0, 3194.25, 3199.75, 3202.5, 3203.0, 3204.0, 3204.5, 3199.5, 3201.5, 3202.0, 3203.0, 3204.75, 3199.75, 3204.0, 3208.75, 3211.5, 3215.75, 3196.0, 3201.25, 3208.5, 3215.25, 3219.0, 3223.0, 3225.5, 3228.75, 3231.25, 3241.75, 3241.75, 3245.5, 3246.5, 3265.75, 3268.25, 3256.5, 3257.5, 3251.0, 3252.0, 3248.0, 3252.75, 3258.75, 3262.25], \"open\": [3083.75, 3084.75, 3091.75, 3095.0, 3119.0, 3120.25, 3136.0, 3137.5, 3135.0, 3136.75, 3123.5, 3127.5, 3131.75, 3109.5, 3112.25, 3131.0, 3133.0, 3146.25, 3149.75, 3162.0, 3167.5, 3160.5, 3161.5, 3142.0, 3145.0, 3142.0, 3143.25, 3140.75, 3143.25, 3145.0, 3145.0, 3145.0, 3153.5, 3157.5, 3140.0, 3145.5, 3155.5, 3159.75, 3159.25, 3160.5, 3167.75, 3169.5, 3117.25, 3120.75, 3132.25, 3137.75, 3144.25, 3144.5, 3145.0, 3151.25, 3155.25, 3191.5, 3196.75, 3195.25, 3202.25, 3205.25, 3145.0, 3153.5, 3155.75, 3161.0, 3156.75, 3159.0, 3207.25, 3210.0, 3201.25, 3203.25, 3210.25, 3216.0, 3219.0, 3198.75, 3207.25, 3210.25, 3208.25, 3210.0, 3192.5, 3194.5, 3196.25, 3200.25, 3202.75, 3203.75, 3205.0, 3205.5, 3200.5, 3202.75, 3202.5, 3203.75, 3204.75, 3202.0, 3204.5, 3209.5, 3212.0, 3216.75, 3198.5, 3201.5, 3211.5, 3216.5, 3220.0, 3226.0, 3227.0, 3229.0, 3231.75, 3241.75, 3243.0, 3246.25, 3247.25, 3266.0, 3268.75, 3258.25, 3258.5, 3252.25, 3254.0, 3248.75, 3254.5, 3260.25, 3262.5], \"type\": \"candlestick\", \"x\": [\"2020-07-01T03:30:00\", \"2020-07-01T03:40:00\", \"2020-07-01T15:30:00\", \"2020-07-01T15:40:00\", \"2020-07-02T10:20:00\", \"2020-07-02T10:30:00\", \"2020-07-02T17:30:00\", \"2020-07-02T17:40:00\", \"2020-07-02T18:10:00\", \"2020-07-02T18:20:00\", \"2020-07-03T05:50:00\", \"2020-07-03T06:00:00\", \"2020-07-03T06:10:00\", \"2020-07-03T15:20:00\", \"2020-07-03T15:30:00\", \"2020-07-05T23:20:00\", \"2020-07-05T23:30:00\", \"2020-07-06T01:20:00\", \"2020-07-06T01:30:00\", \"2020-07-06T14:40:00\", \"2020-07-06T14:50:00\", \"2020-07-07T16:40:00\", \"2020-07-07T16:50:00\", \"2020-07-08T00:10:00\", \"2020-07-08T00:20:00\", \"2020-07-08T00:50:00\", \"2020-07-08T01:00:00\", \"2020-07-08T02:30:00\", \"2020-07-08T02:40:00\", \"2020-07-08T02:50:00\", \"2020-07-08T03:00:00\", \"2020-07-08T13:30:00\", \"2020-07-08T13:40:00\", \"2020-07-08T13:50:00\", \"2020-07-08T18:50:00\", \"2020-07-08T19:00:00\", \"2020-07-09T07:50:00\", \"2020-07-09T08:00:00\", \"2020-07-09T11:10:00\", \"2020-07-09T11:20:00\", \"2020-07-09T12:30:00\", \"2020-07-09T12:40:00\", \"2020-07-09T15:50:00\", \"2020-07-09T16:00:00\", \"2020-07-09T18:00:00\", \"2020-07-09T18:10:00\", \"2020-07-09T23:00:00\", \"2020-07-09T23:10:00\", \"2020-07-09T23:20:00\", \"2020-07-10T16:40:00\", \"2020-07-10T16:50:00\", \"2020-07-13T10:50:00\", \"2020-07-13T11:00:00\", \"2020-07-13T14:00:00\", \"2020-07-13T14:10:00\", \"2020-07-13T14:20:00\", \"2020-07-14T01:30:00\", \"2020-07-14T01:40:00\", \"2020-07-14T09:10:00\", \"2020-07-14T09:20:00\", \"2020-07-14T10:40:00\", \"2020-07-14T10:50:00\", \"2020-07-14T23:50:00\", \"2020-07-15T00:00:00\", \"2020-07-15T10:00:00\", \"2020-07-15T10:10:00\", \"2020-07-15T10:20:00\", \"2020-07-15T14:10:00\", \"2020-07-15T14:20:00\", \"2020-07-15T16:40:00\", \"2020-07-15T16:50:00\", \"2020-07-15T17:00:00\", \"2020-07-15T19:10:00\", \"2020-07-15T19:20:00\", \"2020-07-16T09:20:00\", \"2020-07-16T09:30:00\", \"2020-07-16T19:10:00\", \"2020-07-16T19:20:00\", \"2020-07-16T23:50:00\", \"2020-07-17T00:00:00\", \"2020-07-17T00:30:00\", \"2020-07-17T00:40:00\", \"2020-07-17T08:30:00\", \"2020-07-17T08:40:00\", \"2020-07-17T10:00:00\", \"2020-07-17T10:10:00\", \"2020-07-17T10:20:00\", \"2020-07-17T14:40:00\", \"2020-07-17T14:50:00\", \"2020-07-17T15:00:00\", \"2020-07-17T18:00:00\", \"2020-07-17T18:10:00\", \"2020-07-20T08:30:00\", \"2020-07-20T08:40:00\", \"2020-07-20T14:00:00\", \"2020-07-20T14:10:00\", \"2020-07-20T14:20:00\", \"2020-07-20T15:20:00\", \"2020-07-20T15:30:00\", \"2020-07-20T17:10:00\", \"2020-07-20T17:20:00\", \"2020-07-20T22:50:00\", \"2020-07-20T23:00:00\", \"2020-07-21T03:20:00\", \"2020-07-21T03:30:00\", \"2020-07-21T11:10:00\", \"2020-07-21T11:20:00\", \"2020-07-22T01:40:00\", \"2020-07-22T01:50:00\", \"2020-07-22T06:50:00\", \"2020-07-22T07:00:00\", \"2020-07-22T15:20:00\", \"2020-07-22T15:30:00\", \"2020-07-22T19:30:00\", \"2020-07-22T19:40:00\"]}],\n",
       "                        {\"height\": 500, \"template\": {\"data\": {\"bar\": [{\"error_x\": {\"color\": \"#2a3f5f\"}, \"error_y\": {\"color\": \"#2a3f5f\"}, \"marker\": {\"line\": {\"color\": \"#E5ECF6\", \"width\": 0.5}}, \"type\": \"bar\"}], \"barpolar\": [{\"marker\": {\"line\": {\"color\": \"#E5ECF6\", \"width\": 0.5}}, \"type\": \"barpolar\"}], \"carpet\": [{\"aaxis\": {\"endlinecolor\": \"#2a3f5f\", \"gridcolor\": \"white\", \"linecolor\": \"white\", \"minorgridcolor\": \"white\", \"startlinecolor\": \"#2a3f5f\"}, \"baxis\": {\"endlinecolor\": \"#2a3f5f\", \"gridcolor\": \"white\", \"linecolor\": \"white\", \"minorgridcolor\": \"white\", \"startlinecolor\": \"#2a3f5f\"}, \"type\": \"carpet\"}], \"choropleth\": [{\"colorbar\": {\"outlinewidth\": 0, \"ticks\": \"\"}, \"type\": \"choropleth\"}], \"contour\": [{\"colorbar\": {\"outlinewidth\": 0, \"ticks\": \"\"}, \"colorscale\": [[0.0, \"#0d0887\"], [0.1111111111111111, \"#46039f\"], [0.2222222222222222, \"#7201a8\"], [0.3333333333333333, \"#9c179e\"], [0.4444444444444444, \"#bd3786\"], [0.5555555555555556, \"#d8576b\"], [0.6666666666666666, \"#ed7953\"], [0.7777777777777778, \"#fb9f3a\"], [0.8888888888888888, \"#fdca26\"], [1.0, \"#f0f921\"]], \"type\": \"contour\"}], \"contourcarpet\": [{\"colorbar\": {\"outlinewidth\": 0, \"ticks\": \"\"}, \"type\": \"contourcarpet\"}], \"heatmap\": [{\"colorbar\": {\"outlinewidth\": 0, \"ticks\": \"\"}, \"colorscale\": [[0.0, \"#0d0887\"], [0.1111111111111111, \"#46039f\"], [0.2222222222222222, \"#7201a8\"], [0.3333333333333333, \"#9c179e\"], [0.4444444444444444, \"#bd3786\"], [0.5555555555555556, \"#d8576b\"], [0.6666666666666666, \"#ed7953\"], [0.7777777777777778, \"#fb9f3a\"], [0.8888888888888888, \"#fdca26\"], [1.0, \"#f0f921\"]], \"type\": \"heatmap\"}], \"heatmapgl\": [{\"colorbar\": {\"outlinewidth\": 0, \"ticks\": \"\"}, \"colorscale\": [[0.0, \"#0d0887\"], [0.1111111111111111, \"#46039f\"], [0.2222222222222222, \"#7201a8\"], [0.3333333333333333, \"#9c179e\"], [0.4444444444444444, \"#bd3786\"], [0.5555555555555556, \"#d8576b\"], [0.6666666666666666, \"#ed7953\"], [0.7777777777777778, \"#fb9f3a\"], [0.8888888888888888, \"#fdca26\"], [1.0, \"#f0f921\"]], \"type\": \"heatmapgl\"}], \"histogram\": [{\"marker\": {\"colorbar\": {\"outlinewidth\": 0, \"ticks\": \"\"}}, \"type\": \"histogram\"}], \"histogram2d\": [{\"colorbar\": {\"outlinewidth\": 0, \"ticks\": \"\"}, \"colorscale\": [[0.0, \"#0d0887\"], [0.1111111111111111, \"#46039f\"], [0.2222222222222222, \"#7201a8\"], [0.3333333333333333, \"#9c179e\"], [0.4444444444444444, \"#bd3786\"], [0.5555555555555556, \"#d8576b\"], [0.6666666666666666, \"#ed7953\"], [0.7777777777777778, \"#fb9f3a\"], [0.8888888888888888, \"#fdca26\"], [1.0, \"#f0f921\"]], \"type\": \"histogram2d\"}], \"histogram2dcontour\": [{\"colorbar\": {\"outlinewidth\": 0, \"ticks\": \"\"}, \"colorscale\": [[0.0, \"#0d0887\"], [0.1111111111111111, \"#46039f\"], [0.2222222222222222, \"#7201a8\"], [0.3333333333333333, \"#9c179e\"], [0.4444444444444444, \"#bd3786\"], [0.5555555555555556, \"#d8576b\"], [0.6666666666666666, \"#ed7953\"], [0.7777777777777778, \"#fb9f3a\"], [0.8888888888888888, \"#fdca26\"], [1.0, \"#f0f921\"]], \"type\": \"histogram2dcontour\"}], \"mesh3d\": [{\"colorbar\": {\"outlinewidth\": 0, \"ticks\": \"\"}, \"type\": \"mesh3d\"}], \"parcoords\": [{\"line\": {\"colorbar\": {\"outlinewidth\": 0, \"ticks\": \"\"}}, \"type\": \"parcoords\"}], \"pie\": [{\"automargin\": true, \"type\": \"pie\"}], \"scatter\": [{\"marker\": {\"colorbar\": {\"outlinewidth\": 0, \"ticks\": \"\"}}, \"type\": \"scatter\"}], \"scatter3d\": [{\"line\": {\"colorbar\": {\"outlinewidth\": 0, \"ticks\": \"\"}}, \"marker\": {\"colorbar\": {\"outlinewidth\": 0, \"ticks\": \"\"}}, \"type\": \"scatter3d\"}], \"scattercarpet\": [{\"marker\": {\"colorbar\": {\"outlinewidth\": 0, \"ticks\": \"\"}}, \"type\": \"scattercarpet\"}], \"scattergeo\": [{\"marker\": {\"colorbar\": {\"outlinewidth\": 0, \"ticks\": \"\"}}, \"type\": \"scattergeo\"}], \"scattergl\": [{\"marker\": {\"colorbar\": {\"outlinewidth\": 0, \"ticks\": \"\"}}, \"type\": \"scattergl\"}], \"scattermapbox\": [{\"marker\": {\"colorbar\": {\"outlinewidth\": 0, \"ticks\": \"\"}}, \"type\": \"scattermapbox\"}], \"scatterpolar\": [{\"marker\": {\"colorbar\": {\"outlinewidth\": 0, \"ticks\": \"\"}}, \"type\": \"scatterpolar\"}], \"scatterpolargl\": [{\"marker\": {\"colorbar\": {\"outlinewidth\": 0, \"ticks\": \"\"}}, \"type\": \"scatterpolargl\"}], \"scatterternary\": [{\"marker\": {\"colorbar\": {\"outlinewidth\": 0, \"ticks\": \"\"}}, \"type\": \"scatterternary\"}], \"surface\": [{\"colorbar\": {\"outlinewidth\": 0, \"ticks\": \"\"}, \"colorscale\": [[0.0, \"#0d0887\"], [0.1111111111111111, \"#46039f\"], [0.2222222222222222, \"#7201a8\"], [0.3333333333333333, \"#9c179e\"], [0.4444444444444444, \"#bd3786\"], [0.5555555555555556, \"#d8576b\"], [0.6666666666666666, \"#ed7953\"], [0.7777777777777778, \"#fb9f3a\"], [0.8888888888888888, \"#fdca26\"], [1.0, \"#f0f921\"]], \"type\": \"surface\"}], \"table\": [{\"cells\": {\"fill\": {\"color\": \"#EBF0F8\"}, \"line\": {\"color\": \"white\"}}, \"header\": {\"fill\": {\"color\": \"#C8D4E3\"}, \"line\": {\"color\": \"white\"}}, \"type\": \"table\"}]}, \"layout\": {\"annotationdefaults\": {\"arrowcolor\": \"#2a3f5f\", \"arrowhead\": 0, \"arrowwidth\": 1}, \"coloraxis\": {\"colorbar\": {\"outlinewidth\": 0, \"ticks\": \"\"}}, \"colorscale\": {\"diverging\": [[0, \"#8e0152\"], [0.1, \"#c51b7d\"], [0.2, \"#de77ae\"], [0.3, \"#f1b6da\"], [0.4, \"#fde0ef\"], [0.5, \"#f7f7f7\"], [0.6, \"#e6f5d0\"], [0.7, \"#b8e186\"], [0.8, \"#7fbc41\"], [0.9, \"#4d9221\"], [1, \"#276419\"]], \"sequential\": [[0.0, \"#0d0887\"], [0.1111111111111111, \"#46039f\"], [0.2222222222222222, \"#7201a8\"], [0.3333333333333333, \"#9c179e\"], [0.4444444444444444, \"#bd3786\"], [0.5555555555555556, \"#d8576b\"], [0.6666666666666666, \"#ed7953\"], [0.7777777777777778, \"#fb9f3a\"], [0.8888888888888888, \"#fdca26\"], [1.0, \"#f0f921\"]], \"sequentialminus\": [[0.0, \"#0d0887\"], [0.1111111111111111, \"#46039f\"], [0.2222222222222222, \"#7201a8\"], [0.3333333333333333, \"#9c179e\"], [0.4444444444444444, \"#bd3786\"], [0.5555555555555556, \"#d8576b\"], [0.6666666666666666, \"#ed7953\"], [0.7777777777777778, \"#fb9f3a\"], [0.8888888888888888, \"#fdca26\"], [1.0, \"#f0f921\"]]}, \"colorway\": [\"#636efa\", \"#EF553B\", \"#00cc96\", \"#ab63fa\", \"#FFA15A\", \"#19d3f3\", \"#FF6692\", \"#B6E880\", \"#FF97FF\", \"#FECB52\"], \"font\": {\"color\": \"#2a3f5f\"}, \"geo\": {\"bgcolor\": \"white\", \"lakecolor\": \"white\", \"landcolor\": \"#E5ECF6\", \"showlakes\": true, \"showland\": true, \"subunitcolor\": \"white\"}, \"hoverlabel\": {\"align\": \"left\"}, \"hovermode\": \"closest\", \"mapbox\": {\"style\": \"light\"}, \"paper_bgcolor\": \"white\", \"plot_bgcolor\": \"#E5ECF6\", \"polar\": {\"angularaxis\": {\"gridcolor\": \"white\", \"linecolor\": \"white\", \"ticks\": \"\"}, \"bgcolor\": \"#E5ECF6\", \"radialaxis\": {\"gridcolor\": \"white\", \"linecolor\": \"white\", \"ticks\": \"\"}}, \"scene\": {\"xaxis\": {\"backgroundcolor\": \"#E5ECF6\", \"gridcolor\": \"white\", \"gridwidth\": 2, \"linecolor\": \"white\", \"showbackground\": true, \"ticks\": \"\", \"zerolinecolor\": \"white\"}, \"yaxis\": {\"backgroundcolor\": \"#E5ECF6\", \"gridcolor\": \"white\", \"gridwidth\": 2, \"linecolor\": \"white\", \"showbackground\": true, \"ticks\": \"\", \"zerolinecolor\": \"white\"}, \"zaxis\": {\"backgroundcolor\": \"#E5ECF6\", \"gridcolor\": \"white\", \"gridwidth\": 2, \"linecolor\": \"white\", \"showbackground\": true, \"ticks\": \"\", \"zerolinecolor\": \"white\"}}, \"shapedefaults\": {\"line\": {\"color\": \"#2a3f5f\"}}, \"ternary\": {\"aaxis\": {\"gridcolor\": \"white\", \"linecolor\": \"white\", \"ticks\": \"\"}, \"baxis\": {\"gridcolor\": \"white\", \"linecolor\": \"white\", \"ticks\": \"\"}, \"bgcolor\": \"#E5ECF6\", \"caxis\": {\"gridcolor\": \"white\", \"linecolor\": \"white\", \"ticks\": \"\"}}, \"title\": {\"x\": 0.05}, \"xaxis\": {\"automargin\": true, \"gridcolor\": \"white\", \"linecolor\": \"white\", \"ticks\": \"\", \"title\": {\"standoff\": 15}, \"zerolinecolor\": \"white\", \"zerolinewidth\": 2}, \"yaxis\": {\"automargin\": true, \"gridcolor\": \"white\", \"linecolor\": \"white\", \"ticks\": \"\", \"title\": {\"standoff\": 15}, \"zerolinecolor\": \"white\", \"zerolinewidth\": 2}}}},\n",
       "                        {\"responsive\": true}\n",
       "                    ).then(function(){\n",
       "                            \n",
       "var gd = document.getElementById('b450e47e-50ec-4065-9a02-95789aff622a');\n",
       "var x = new MutationObserver(function (mutations, observer) {{\n",
       "        var display = window.getComputedStyle(gd).display;\n",
       "        if (!display || display === 'none') {{\n",
       "            console.log([gd, 'removed!']);\n",
       "            Plotly.purge(gd);\n",
       "            observer.disconnect();\n",
       "        }}\n",
       "}});\n",
       "\n",
       "// Listen for the removal of the full notebook cells\n",
       "var notebookContainer = gd.closest('#notebook-container');\n",
       "if (notebookContainer) {{\n",
       "    x.observe(notebookContainer, {childList: true});\n",
       "}}\n",
       "\n",
       "// Listen for the clearing of the current output cell\n",
       "var outputEl = gd.closest('.output');\n",
       "if (outputEl) {{\n",
       "    x.observe(outputEl, {childList: true});\n",
       "}}\n",
       "\n",
       "                        })\n",
       "                };\n",
       "                });\n",
       "            </script>\n",
       "        </div>"
      ]
     },
     "metadata": {},
     "output_type": "display_data"
    }
   ],
   "source": [
    "# filter for you PLOTLY graph\n",
    "\n",
    "fig = go.Figure(data=go.Candlestick(x=tmp_df.index,\n",
    "                    open=tmp_df['Open'],\n",
    "                    high=tmp_df['High'],\n",
    "                    low=tmp_df['Low'],\n",
    "                    close=tmp_df['Close']))\n",
    "fig.update_layout(height=500)\n",
    "fig.show()"
   ]
  },
  {
   "cell_type": "code",
   "execution_count": null,
   "metadata": {},
   "outputs": [],
   "source": []
  },
  {
   "cell_type": "code",
   "execution_count": null,
   "metadata": {},
   "outputs": [],
   "source": []
  }
 ],
 "metadata": {
  "kernelspec": {
   "display_name": "Python 3",
   "language": "python",
   "name": "python3"
  },
  "language_info": {
   "codemirror_mode": {
    "name": "ipython",
    "version": 3
   },
   "file_extension": ".py",
   "mimetype": "text/x-python",
   "name": "python",
   "nbconvert_exporter": "python",
   "pygments_lexer": "ipython3",
   "version": "3.7.6"
  }
 },
 "nbformat": 4,
 "nbformat_minor": 4
}
