{
 "cells": [
  {
   "cell_type": "code",
   "execution_count": 1,
   "metadata": {},
   "outputs": [
    {
     "data": {
      "text/html": [
       "        <script type=\"text/javascript\">\n",
       "        window.PlotlyConfig = {MathJaxConfig: 'local'};\n",
       "        if (window.MathJax) {MathJax.Hub.Config({SVG: {font: \"STIX-Web\"}});}\n",
       "        if (typeof require !== 'undefined') {\n",
       "        require.undef(\"plotly\");\n",
       "        requirejs.config({\n",
       "            paths: {\n",
       "                'plotly': ['https://cdn.plot.ly/plotly-latest.min']\n",
       "            }\n",
       "        });\n",
       "        require(['plotly'], function(Plotly) {\n",
       "            window._Plotly = Plotly;\n",
       "        });\n",
       "        }\n",
       "        </script>\n",
       "        "
      ]
     },
     "metadata": {},
     "output_type": "display_data"
    }
   ],
   "source": [
    "import pandas as pd\n",
    "import mplfinance as mpf\n",
    "\n",
    "\n",
    "from plotly.offline import download_plotlyjs, init_notebook_mode, plot, iplot\n",
    "from plotly import graph_objs as go\n",
    "init_notebook_mode(connected = True)\n",
    "\n",
    "#Импортируем необходимые библиотеки"
   ]
  },
  {
   "cell_type": "code",
   "execution_count": 2,
   "metadata": {},
   "outputs": [
    {
     "data": {
      "text/html": [
       "<style>.container { width:100% !important; }</style>"
      ],
      "text/plain": [
       "<IPython.core.display.HTML object>"
      ]
     },
     "metadata": {},
     "output_type": "display_data"
    }
   ],
   "source": [
    "from IPython.core.display import display, HTML\n",
    "display(HTML(\"<style>.container { width:100% !important; }</style>\"))"
   ]
  },
  {
   "cell_type": "code",
   "execution_count": 5,
   "metadata": {},
   "outputs": [],
   "source": [
    "esa_df = pd.read_csv(r'''\\Users\\user13\\Olga's Research\\Bar Research\\ver\\es1.csv''')\n",
    "esa_df['Dates'] = pd.to_datetime(esa_df['Dates'], format='%m/%d/%Y %H:%M')\n",
    "esa_df.set_index('Dates', inplace=True)\n",
    "#Загружаем ES1 Index (generic) с 08-01-2020 по наст вр"
   ]
  },
  {
   "cell_type": "code",
   "execution_count": 6,
   "metadata": {},
   "outputs": [
    {
     "data": {
      "text/html": [
       "<div>\n",
       "<style scoped>\n",
       "    .dataframe tbody tr th:only-of-type {\n",
       "        vertical-align: middle;\n",
       "    }\n",
       "\n",
       "    .dataframe tbody tr th {\n",
       "        vertical-align: top;\n",
       "    }\n",
       "\n",
       "    .dataframe thead th {\n",
       "        text-align: right;\n",
       "    }\n",
       "</style>\n",
       "<table border=\"1\" class=\"dataframe\">\n",
       "  <thead>\n",
       "    <tr style=\"text-align: right;\">\n",
       "      <th></th>\n",
       "      <th>Open</th>\n",
       "      <th>Close</th>\n",
       "      <th>High</th>\n",
       "      <th>Low</th>\n",
       "      <th>Volume</th>\n",
       "    </tr>\n",
       "    <tr>\n",
       "      <th>Dates</th>\n",
       "      <th></th>\n",
       "      <th></th>\n",
       "      <th></th>\n",
       "      <th></th>\n",
       "      <th></th>\n",
       "    </tr>\n",
       "  </thead>\n",
       "  <tbody>\n",
       "    <tr>\n",
       "      <th>2020-01-08 22:00:00</th>\n",
       "      <td>3261.25</td>\n",
       "      <td>3262.25</td>\n",
       "      <td>3263.25</td>\n",
       "      <td>3260.00</td>\n",
       "      <td>3771</td>\n",
       "    </tr>\n",
       "    <tr>\n",
       "      <th>2020-01-08 22:10:00</th>\n",
       "      <td>3262.25</td>\n",
       "      <td>3264.25</td>\n",
       "      <td>3264.50</td>\n",
       "      <td>3261.75</td>\n",
       "      <td>1678</td>\n",
       "    </tr>\n",
       "    <tr>\n",
       "      <th>2020-01-08 22:20:00</th>\n",
       "      <td>3264.25</td>\n",
       "      <td>3264.00</td>\n",
       "      <td>3264.75</td>\n",
       "      <td>3263.25</td>\n",
       "      <td>1459</td>\n",
       "    </tr>\n",
       "    <tr>\n",
       "      <th>2020-01-08 22:30:00</th>\n",
       "      <td>3264.25</td>\n",
       "      <td>3261.25</td>\n",
       "      <td>3264.25</td>\n",
       "      <td>3259.00</td>\n",
       "      <td>3069</td>\n",
       "    </tr>\n",
       "    <tr>\n",
       "      <th>2020-01-08 22:40:00</th>\n",
       "      <td>3261.00</td>\n",
       "      <td>3261.75</td>\n",
       "      <td>3262.50</td>\n",
       "      <td>3260.50</td>\n",
       "      <td>1987</td>\n",
       "    </tr>\n",
       "    <tr>\n",
       "      <th>...</th>\n",
       "      <td>...</td>\n",
       "      <td>...</td>\n",
       "      <td>...</td>\n",
       "      <td>...</td>\n",
       "      <td>...</td>\n",
       "    </tr>\n",
       "    <tr>\n",
       "      <th>2020-07-23 06:30:00</th>\n",
       "      <td>3274.25</td>\n",
       "      <td>3274.50</td>\n",
       "      <td>3274.75</td>\n",
       "      <td>3273.00</td>\n",
       "      <td>1255</td>\n",
       "    </tr>\n",
       "    <tr>\n",
       "      <th>2020-07-23 06:40:00</th>\n",
       "      <td>3274.50</td>\n",
       "      <td>3281.00</td>\n",
       "      <td>3284.50</td>\n",
       "      <td>3274.25</td>\n",
       "      <td>9001</td>\n",
       "    </tr>\n",
       "    <tr>\n",
       "      <th>2020-07-23 06:50:00</th>\n",
       "      <td>3280.75</td>\n",
       "      <td>3280.75</td>\n",
       "      <td>3282.00</td>\n",
       "      <td>3280.00</td>\n",
       "      <td>2386</td>\n",
       "    </tr>\n",
       "    <tr>\n",
       "      <th>2020-07-23 07:00:00</th>\n",
       "      <td>3280.50</td>\n",
       "      <td>3276.75</td>\n",
       "      <td>3282.50</td>\n",
       "      <td>3274.50</td>\n",
       "      <td>5889</td>\n",
       "    </tr>\n",
       "    <tr>\n",
       "      <th>2020-07-23 07:10:00</th>\n",
       "      <td>3277.00</td>\n",
       "      <td>3275.50</td>\n",
       "      <td>3277.00</td>\n",
       "      <td>3274.50</td>\n",
       "      <td>2988</td>\n",
       "    </tr>\n",
       "  </tbody>\n",
       "</table>\n",
       "<p>19043 rows × 5 columns</p>\n",
       "</div>"
      ],
      "text/plain": [
       "                        Open    Close     High      Low  Volume\n",
       "Dates                                                          \n",
       "2020-01-08 22:00:00  3261.25  3262.25  3263.25  3260.00    3771\n",
       "2020-01-08 22:10:00  3262.25  3264.25  3264.50  3261.75    1678\n",
       "2020-01-08 22:20:00  3264.25  3264.00  3264.75  3263.25    1459\n",
       "2020-01-08 22:30:00  3264.25  3261.25  3264.25  3259.00    3069\n",
       "2020-01-08 22:40:00  3261.00  3261.75  3262.50  3260.50    1987\n",
       "...                      ...      ...      ...      ...     ...\n",
       "2020-07-23 06:30:00  3274.25  3274.50  3274.75  3273.00    1255\n",
       "2020-07-23 06:40:00  3274.50  3281.00  3284.50  3274.25    9001\n",
       "2020-07-23 06:50:00  3280.75  3280.75  3282.00  3280.00    2386\n",
       "2020-07-23 07:00:00  3280.50  3276.75  3282.50  3274.50    5889\n",
       "2020-07-23 07:10:00  3277.00  3275.50  3277.00  3274.50    2988\n",
       "\n",
       "[19043 rows x 5 columns]"
      ]
     },
     "execution_count": 6,
     "metadata": {},
     "output_type": "execute_result"
    }
   ],
   "source": [
    "esa_df"
   ]
  },
  {
   "cell_type": "code",
   "execution_count": 7,
   "metadata": {},
   "outputs": [],
   "source": [
    "def add_closes(df: pd.DataFrame) -> pd.DataFrame:\n",
    "\n",
    "    df['price_change'] = df['Close'] - df['Open']\n",
    "    df['proj_close'] = 0.8 * (df['High'] - df['Open']) + df['Open']\n",
    "\n",
    "    return df\n",
    "#Функция добавляет колонки условий"
   ]
  },
  {
   "cell_type": "code",
   "execution_count": 8,
   "metadata": {},
   "outputs": [
    {
     "data": {
      "text/html": [
       "<div>\n",
       "<style scoped>\n",
       "    .dataframe tbody tr th:only-of-type {\n",
       "        vertical-align: middle;\n",
       "    }\n",
       "\n",
       "    .dataframe tbody tr th {\n",
       "        vertical-align: top;\n",
       "    }\n",
       "\n",
       "    .dataframe thead th {\n",
       "        text-align: right;\n",
       "    }\n",
       "</style>\n",
       "<table border=\"1\" class=\"dataframe\">\n",
       "  <thead>\n",
       "    <tr style=\"text-align: right;\">\n",
       "      <th></th>\n",
       "      <th>Open</th>\n",
       "      <th>Close</th>\n",
       "      <th>High</th>\n",
       "      <th>Low</th>\n",
       "      <th>Volume</th>\n",
       "      <th>price_change</th>\n",
       "      <th>proj_close</th>\n",
       "    </tr>\n",
       "    <tr>\n",
       "      <th>Dates</th>\n",
       "      <th></th>\n",
       "      <th></th>\n",
       "      <th></th>\n",
       "      <th></th>\n",
       "      <th></th>\n",
       "      <th></th>\n",
       "      <th></th>\n",
       "    </tr>\n",
       "  </thead>\n",
       "  <tbody>\n",
       "    <tr>\n",
       "      <th>2020-01-08 22:00:00</th>\n",
       "      <td>3261.25</td>\n",
       "      <td>3262.25</td>\n",
       "      <td>3263.25</td>\n",
       "      <td>3260.00</td>\n",
       "      <td>3771</td>\n",
       "      <td>1.00</td>\n",
       "      <td>3262.85</td>\n",
       "    </tr>\n",
       "    <tr>\n",
       "      <th>2020-01-08 22:10:00</th>\n",
       "      <td>3262.25</td>\n",
       "      <td>3264.25</td>\n",
       "      <td>3264.50</td>\n",
       "      <td>3261.75</td>\n",
       "      <td>1678</td>\n",
       "      <td>2.00</td>\n",
       "      <td>3264.05</td>\n",
       "    </tr>\n",
       "    <tr>\n",
       "      <th>2020-01-08 22:20:00</th>\n",
       "      <td>3264.25</td>\n",
       "      <td>3264.00</td>\n",
       "      <td>3264.75</td>\n",
       "      <td>3263.25</td>\n",
       "      <td>1459</td>\n",
       "      <td>-0.25</td>\n",
       "      <td>3264.65</td>\n",
       "    </tr>\n",
       "    <tr>\n",
       "      <th>2020-01-08 22:30:00</th>\n",
       "      <td>3264.25</td>\n",
       "      <td>3261.25</td>\n",
       "      <td>3264.25</td>\n",
       "      <td>3259.00</td>\n",
       "      <td>3069</td>\n",
       "      <td>-3.00</td>\n",
       "      <td>3264.25</td>\n",
       "    </tr>\n",
       "    <tr>\n",
       "      <th>2020-01-08 22:40:00</th>\n",
       "      <td>3261.00</td>\n",
       "      <td>3261.75</td>\n",
       "      <td>3262.50</td>\n",
       "      <td>3260.50</td>\n",
       "      <td>1987</td>\n",
       "      <td>0.75</td>\n",
       "      <td>3262.20</td>\n",
       "    </tr>\n",
       "  </tbody>\n",
       "</table>\n",
       "</div>"
      ],
      "text/plain": [
       "                        Open    Close     High      Low  Volume  price_change  \\\n",
       "Dates                                                                           \n",
       "2020-01-08 22:00:00  3261.25  3262.25  3263.25  3260.00    3771          1.00   \n",
       "2020-01-08 22:10:00  3262.25  3264.25  3264.50  3261.75    1678          2.00   \n",
       "2020-01-08 22:20:00  3264.25  3264.00  3264.75  3263.25    1459         -0.25   \n",
       "2020-01-08 22:30:00  3264.25  3261.25  3264.25  3259.00    3069         -3.00   \n",
       "2020-01-08 22:40:00  3261.00  3261.75  3262.50  3260.50    1987          0.75   \n",
       "\n",
       "                     proj_close  \n",
       "Dates                            \n",
       "2020-01-08 22:00:00     3262.85  \n",
       "2020-01-08 22:10:00     3264.05  \n",
       "2020-01-08 22:20:00     3264.65  \n",
       "2020-01-08 22:30:00     3264.25  \n",
       "2020-01-08 22:40:00     3262.20  "
      ]
     },
     "execution_count": 8,
     "metadata": {},
     "output_type": "execute_result"
    }
   ],
   "source": [
    "esa_df = add_closes(esa_df)\n",
    "esa_df.head()\n",
    "# Из всех свечей с выбранным условием уберем те,  у которых price_change отриц, т е они идут вниз\n",
    "# Применим функцию, берущую только те свечи где Цена закрытия больше proj_close"
   ]
  },
  {
   "cell_type": "code",
   "execution_count": 9,
   "metadata": {},
   "outputs": [],
   "source": [
    "def get_rising_candles(df: pd.DataFrame) -> pd.DataFrame:\n",
    "    new_df = pd.DataFrame(columns=['group_no'])\n",
    "    # Apply main filter Close price >= projected Close Price AND price change > 0\n",
    "    tmp_df = df[(df['price_change'] > 0) & (df['Close'] >= df['proj_close'])]\n",
    "    stop_iter = len(tmp_df)\n",
    "\n",
    "    for i in range(stop_iter - 1):\n",
    "        if ((tmp_df.iloc[i+1].name - pd.Timedelta('10 m') == tmp_df.iloc[i].name) and\n",
    "            (tmp_df.iloc[i+1].Close > tmp_df.iloc[i].Close)):\n",
    "            new_df = new_df.append(tmp_df.iloc[i])\n",
    "            new_df = new_df.append(tmp_df.iloc[i+1])\n",
    "        else:\n",
    "            new_df.loc[new_df.group_no.isna(), 'group_no'] = i\n",
    "    \n",
    "    new_df.loc[new_df.group_no.isna(), 'group_no'] = stop_iter\n",
    "\n",
    "    new_df.drop_duplicates(inplace=True)\n",
    "    td = new_df.groupby('group_no')['group_no'].count().to_frame()\n",
    "    dd = {i:r['group_no'] for i, r in td.iterrows()}\n",
    "    new_df['group_q'] = new_df['group_no'].map(dd)\n",
    "    return new_df\n",
    "\n",
    "#Функция пропускает все данные через условия + где изменение цены больше 0,т е только положительные свечи\n",
    "# Плюс дополнительное условие , показать свечи,каждое открытие последующих выше предыдущего "
   ]
  },
  {
   "cell_type": "code",
   "execution_count": 10,
   "metadata": {},
   "outputs": [
    {
     "data": {
      "text/html": [
       "<div>\n",
       "<style scoped>\n",
       "    .dataframe tbody tr th:only-of-type {\n",
       "        vertical-align: middle;\n",
       "    }\n",
       "\n",
       "    .dataframe tbody tr th {\n",
       "        vertical-align: top;\n",
       "    }\n",
       "\n",
       "    .dataframe thead th {\n",
       "        text-align: right;\n",
       "    }\n",
       "</style>\n",
       "<table border=\"1\" class=\"dataframe\">\n",
       "  <thead>\n",
       "    <tr style=\"text-align: right;\">\n",
       "      <th></th>\n",
       "      <th>group_no</th>\n",
       "      <th>Close</th>\n",
       "      <th>High</th>\n",
       "      <th>Low</th>\n",
       "      <th>Open</th>\n",
       "      <th>Volume</th>\n",
       "      <th>price_change</th>\n",
       "      <th>proj_close</th>\n",
       "      <th>group_q</th>\n",
       "    </tr>\n",
       "  </thead>\n",
       "  <tbody>\n",
       "    <tr>\n",
       "      <th>2020-01-09 03:20:00</th>\n",
       "      <td>10</td>\n",
       "      <td>3261.75</td>\n",
       "      <td>3261.75</td>\n",
       "      <td>3261.00</td>\n",
       "      <td>3261.25</td>\n",
       "      <td>390.0</td>\n",
       "      <td>0.50</td>\n",
       "      <td>3261.65</td>\n",
       "      <td>3</td>\n",
       "    </tr>\n",
       "    <tr>\n",
       "      <th>2020-01-09 03:30:00</th>\n",
       "      <td>10</td>\n",
       "      <td>3263.00</td>\n",
       "      <td>3263.00</td>\n",
       "      <td>3261.75</td>\n",
       "      <td>3261.75</td>\n",
       "      <td>803.0</td>\n",
       "      <td>1.25</td>\n",
       "      <td>3262.75</td>\n",
       "      <td>3</td>\n",
       "    </tr>\n",
       "    <tr>\n",
       "      <th>2020-01-09 03:40:00</th>\n",
       "      <td>10</td>\n",
       "      <td>3263.50</td>\n",
       "      <td>3263.50</td>\n",
       "      <td>3262.75</td>\n",
       "      <td>3263.00</td>\n",
       "      <td>592.0</td>\n",
       "      <td>0.50</td>\n",
       "      <td>3263.40</td>\n",
       "      <td>3</td>\n",
       "    </tr>\n",
       "    <tr>\n",
       "      <th>2020-01-09 12:30:00</th>\n",
       "      <td>17</td>\n",
       "      <td>3271.50</td>\n",
       "      <td>3271.50</td>\n",
       "      <td>3269.75</td>\n",
       "      <td>3270.00</td>\n",
       "      <td>5224.0</td>\n",
       "      <td>1.50</td>\n",
       "      <td>3271.20</td>\n",
       "      <td>2</td>\n",
       "    </tr>\n",
       "    <tr>\n",
       "      <th>2020-01-09 12:40:00</th>\n",
       "      <td>17</td>\n",
       "      <td>3271.75</td>\n",
       "      <td>3271.75</td>\n",
       "      <td>3270.75</td>\n",
       "      <td>3271.50</td>\n",
       "      <td>3544.0</td>\n",
       "      <td>0.25</td>\n",
       "      <td>3271.70</td>\n",
       "      <td>2</td>\n",
       "    </tr>\n",
       "  </tbody>\n",
       "</table>\n",
       "</div>"
      ],
      "text/plain": [
       "                    group_no    Close     High      Low     Open  Volume  \\\n",
       "2020-01-09 03:20:00       10  3261.75  3261.75  3261.00  3261.25   390.0   \n",
       "2020-01-09 03:30:00       10  3263.00  3263.00  3261.75  3261.75   803.0   \n",
       "2020-01-09 03:40:00       10  3263.50  3263.50  3262.75  3263.00   592.0   \n",
       "2020-01-09 12:30:00       17  3271.50  3271.50  3269.75  3270.00  5224.0   \n",
       "2020-01-09 12:40:00       17  3271.75  3271.75  3270.75  3271.50  3544.0   \n",
       "\n",
       "                     price_change  proj_close  group_q  \n",
       "2020-01-09 03:20:00          0.50     3261.65        3  \n",
       "2020-01-09 03:30:00          1.25     3262.75        3  \n",
       "2020-01-09 03:40:00          0.50     3263.40        3  \n",
       "2020-01-09 12:30:00          1.50     3271.20        2  \n",
       "2020-01-09 12:40:00          0.25     3271.70        2  "
      ]
     },
     "execution_count": 10,
     "metadata": {},
     "output_type": "execute_result"
    }
   ],
   "source": [
    "sorted_esa_df = get_rising_candles(esa_df)\n",
    "sorted_esa_df.head()"
   ]
  },
  {
   "cell_type": "code",
   "execution_count": 11,
   "metadata": {},
   "outputs": [
    {
     "data": {
      "text/html": [
       "<div>\n",
       "<style scoped>\n",
       "    .dataframe tbody tr th:only-of-type {\n",
       "        vertical-align: middle;\n",
       "    }\n",
       "\n",
       "    .dataframe tbody tr th {\n",
       "        vertical-align: top;\n",
       "    }\n",
       "\n",
       "    .dataframe thead th {\n",
       "        text-align: right;\n",
       "    }\n",
       "</style>\n",
       "<table border=\"1\" class=\"dataframe\">\n",
       "  <thead>\n",
       "    <tr style=\"text-align: right;\">\n",
       "      <th></th>\n",
       "      <th>group_no</th>\n",
       "      <th>Close</th>\n",
       "      <th>High</th>\n",
       "      <th>Low</th>\n",
       "      <th>Open</th>\n",
       "      <th>Volume</th>\n",
       "      <th>price_change</th>\n",
       "      <th>proj_close</th>\n",
       "      <th>group_q</th>\n",
       "    </tr>\n",
       "  </thead>\n",
       "  <tbody>\n",
       "    <tr>\n",
       "      <th>2020-01-09 03:20:00</th>\n",
       "      <td>10</td>\n",
       "      <td>3261.75</td>\n",
       "      <td>3261.75</td>\n",
       "      <td>3261.00</td>\n",
       "      <td>3261.25</td>\n",
       "      <td>390.0</td>\n",
       "      <td>0.50</td>\n",
       "      <td>3261.65</td>\n",
       "      <td>3</td>\n",
       "    </tr>\n",
       "    <tr>\n",
       "      <th>2020-01-09 03:30:00</th>\n",
       "      <td>10</td>\n",
       "      <td>3263.00</td>\n",
       "      <td>3263.00</td>\n",
       "      <td>3261.75</td>\n",
       "      <td>3261.75</td>\n",
       "      <td>803.0</td>\n",
       "      <td>1.25</td>\n",
       "      <td>3262.75</td>\n",
       "      <td>3</td>\n",
       "    </tr>\n",
       "    <tr>\n",
       "      <th>2020-01-09 03:40:00</th>\n",
       "      <td>10</td>\n",
       "      <td>3263.50</td>\n",
       "      <td>3263.50</td>\n",
       "      <td>3262.75</td>\n",
       "      <td>3263.00</td>\n",
       "      <td>592.0</td>\n",
       "      <td>0.50</td>\n",
       "      <td>3263.40</td>\n",
       "      <td>3</td>\n",
       "    </tr>\n",
       "    <tr>\n",
       "      <th>2020-01-09 12:30:00</th>\n",
       "      <td>17</td>\n",
       "      <td>3271.50</td>\n",
       "      <td>3271.50</td>\n",
       "      <td>3269.75</td>\n",
       "      <td>3270.00</td>\n",
       "      <td>5224.0</td>\n",
       "      <td>1.50</td>\n",
       "      <td>3271.20</td>\n",
       "      <td>2</td>\n",
       "    </tr>\n",
       "    <tr>\n",
       "      <th>2020-01-09 12:40:00</th>\n",
       "      <td>17</td>\n",
       "      <td>3271.75</td>\n",
       "      <td>3271.75</td>\n",
       "      <td>3270.75</td>\n",
       "      <td>3271.50</td>\n",
       "      <td>3544.0</td>\n",
       "      <td>0.25</td>\n",
       "      <td>3271.70</td>\n",
       "      <td>2</td>\n",
       "    </tr>\n",
       "  </tbody>\n",
       "</table>\n",
       "</div>"
      ],
      "text/plain": [
       "                    group_no    Close     High      Low     Open  Volume  \\\n",
       "2020-01-09 03:20:00       10  3261.75  3261.75  3261.00  3261.25   390.0   \n",
       "2020-01-09 03:30:00       10  3263.00  3263.00  3261.75  3261.75   803.0   \n",
       "2020-01-09 03:40:00       10  3263.50  3263.50  3262.75  3263.00   592.0   \n",
       "2020-01-09 12:30:00       17  3271.50  3271.50  3269.75  3270.00  5224.0   \n",
       "2020-01-09 12:40:00       17  3271.75  3271.75  3270.75  3271.50  3544.0   \n",
       "\n",
       "                     price_change  proj_close  group_q  \n",
       "2020-01-09 03:20:00          0.50     3261.65        3  \n",
       "2020-01-09 03:30:00          1.25     3262.75        3  \n",
       "2020-01-09 03:40:00          0.50     3263.40        3  \n",
       "2020-01-09 12:30:00          1.50     3271.20        2  \n",
       "2020-01-09 12:40:00          0.25     3271.70        2  "
      ]
     },
     "execution_count": 11,
     "metadata": {},
     "output_type": "execute_result"
    }
   ],
   "source": [
    "sorted_esa_df\n",
    "sorted_esa_df.head()\n",
    "# Переприсваиваем новый датафрейм - получаем только положительные свечи с выбранным условием которые идут подряд"
   ]
  },
  {
   "cell_type": "code",
   "execution_count": 12,
   "metadata": {},
   "outputs": [
    {
     "data": {
      "text/html": [
       "<div>\n",
       "<style scoped>\n",
       "    .dataframe tbody tr th:only-of-type {\n",
       "        vertical-align: middle;\n",
       "    }\n",
       "\n",
       "    .dataframe tbody tr th {\n",
       "        vertical-align: top;\n",
       "    }\n",
       "\n",
       "    .dataframe thead th {\n",
       "        text-align: right;\n",
       "    }\n",
       "</style>\n",
       "<table border=\"1\" class=\"dataframe\">\n",
       "  <thead>\n",
       "    <tr style=\"text-align: right;\">\n",
       "      <th></th>\n",
       "      <th>group_no</th>\n",
       "    </tr>\n",
       "    <tr>\n",
       "      <th>group_q</th>\n",
       "      <th></th>\n",
       "    </tr>\n",
       "  </thead>\n",
       "  <tbody>\n",
       "    <tr>\n",
       "      <th>2</th>\n",
       "      <td>379</td>\n",
       "    </tr>\n",
       "    <tr>\n",
       "      <th>3</th>\n",
       "      <td>54</td>\n",
       "    </tr>\n",
       "    <tr>\n",
       "      <th>4</th>\n",
       "      <td>7</td>\n",
       "    </tr>\n",
       "    <tr>\n",
       "      <th>5</th>\n",
       "      <td>2</td>\n",
       "    </tr>\n",
       "    <tr>\n",
       "      <th>7</th>\n",
       "      <td>1</td>\n",
       "    </tr>\n",
       "  </tbody>\n",
       "</table>\n",
       "</div>"
      ],
      "text/plain": [
       "         group_no\n",
       "group_q          \n",
       "2             379\n",
       "3              54\n",
       "4               7\n",
       "5               2\n",
       "7               1"
      ]
     },
     "execution_count": 12,
     "metadata": {},
     "output_type": "execute_result"
    }
   ],
   "source": [
    "# Calculate how many cases in here:\n",
    "\n",
    "sorted_esa_df[['group_no', 'group_q']].drop_duplicates().groupby('group_q')['group_no'].count().to_frame()"
   ]
  },
  {
   "cell_type": "code",
   "execution_count": 13,
   "metadata": {},
   "outputs": [
    {
     "data": {
      "text/plain": [
       "443"
      ]
     },
     "execution_count": 13,
     "metadata": {},
     "output_type": "execute_result"
    }
   ],
   "source": [
    "len(sorted_esa_df.group_no.unique())"
   ]
  },
  {
   "cell_type": "code",
   "execution_count": 14,
   "metadata": {},
   "outputs": [],
   "source": [
    "tmp_df = sorted_esa_df.loc['2020-07-01':'2020-07-02']"
   ]
  },
  {
   "cell_type": "code",
   "execution_count": 15,
   "metadata": {},
   "outputs": [
    {
     "data": {
      "image/png": "[encoded data removed]",
      "text/plain": [
       "<Figure size 800x575 with 2 Axes>"
      ]
     },
     "metadata": {},
     "output_type": "display_data"
    }
   ],
   "source": [
    "mpf.plot(tmp_df, type='candlestick')"
   ]
  },
  {
   "cell_type": "code",
   "execution_count": 16,
   "metadata": {},
   "outputs": [
    {
     "data": {
      "application/vnd.plotly.v1+json": {
       "config": {
        "plotlyServerURL": "https://plot.ly"
       },
       "data": [
        {
         "close": [
          3084.75,
          3085.75,
          3095,
          3101.5,
          3120.5,
          3122.75,
          3137.25,
          3141.25,
          3136.75,
          3140.5
         ],
         "high": [
          3084.75,
          3086,
          3095.75,
          3102.25,
          3120.75,
          3123.25,
          3137.5,
          3141.25,
          3137,
          3141
         ],
         "low": [
          3082.5,
          3084.25,
          3090.75,
          3094.25,
          3118.75,
          3119,
          3135,
          3136.5,
          3134.75,
          3135.25
         ],
         "open": [
          3083.75,
          3084.75,
          3091.75,
          3095,
          3119,
          3120.25,
          3136,
          3137.5,
          3135,
          3136.75
         ],
         "type": "candlestick",
         "x": [
          "2020-07-01T03:30:00",
          "2020-07-01T03:40:00",
          "2020-07-01T15:30:00",
          "2020-07-01T15:40:00",
          "2020-07-02T10:20:00",
          "2020-07-02T10:30:00",
          "2020-07-02T17:30:00",
          "2020-07-02T17:40:00",
          "2020-07-02T18:10:00",
          "2020-07-02T18:20:00"
         ]
        }
       ],
       "layout": {
        "height": 500,
        "template": {
         "data": {
          "bar": [
           {
            "error_x": {
             "color": "#2a3f5f"
            },
            "error_y": {
             "color": "#2a3f5f"
            },
            "marker": {
             "line": {
              "color": "#E5ECF6",
              "width": 0.5
             }
            },
            "type": "bar"
           }
          ],
          "barpolar": [
           {
            "marker": {
             "line": {
              "color": "#E5ECF6",
              "width": 0.5
             }
            },
            "type": "barpolar"
           }
          ],
          "carpet": [
           {
            "aaxis": {
             "endlinecolor": "#2a3f5f",
             "gridcolor": "white",
             "linecolor": "white",
             "minorgridcolor": "white",
             "startlinecolor": "#2a3f5f"
            },
            "baxis": {
             "endlinecolor": "#2a3f5f",
             "gridcolor": "white",
             "linecolor": "white",
             "minorgridcolor": "white",
             "startlinecolor": "#2a3f5f"
            },
            "type": "carpet"
           }
          ],
          "choropleth": [
           {
            "colorbar": {
             "outlinewidth": 0,
             "ticks": ""
            },
            "type": "choropleth"
           }
          ],
          "contour": [
           {
            "colorbar": {
             "outlinewidth": 0,
             "ticks": ""
            },
            "colorscale": [
             [
              0,
              "#0d0887"
             ],
             [
              0.1111111111111111,
              "#46039f"
             ],
             [
              0.2222222222222222,
              "#7201a8"
             ],
             [
              0.3333333333333333,
              "#9c179e"
             ],
             [
              0.4444444444444444,
              "#bd3786"
             ],
             [
              0.5555555555555556,
              "#d8576b"
             ],
             [
              0.6666666666666666,
              "#ed7953"
             ],
             [
              0.7777777777777778,
              "#fb9f3a"
             ],
             [
              0.8888888888888888,
              "#fdca26"
             ],
             [
              1,
              "#f0f921"
             ]
            ],
            "type": "contour"
           }
          ],
          "contourcarpet": [
           {
            "colorbar": {
             "outlinewidth": 0,
             "ticks": ""
            },
            "type": "contourcarpet"
           }
          ],
          "heatmap": [
           {
            "colorbar": {
             "outlinewidth": 0,
             "ticks": ""
            },
            "colorscale": [
             [
              0,
              "#0d0887"
             ],
             [
              0.1111111111111111,
              "#46039f"
             ],
             [
              0.2222222222222222,
              "#7201a8"
             ],
             [
              0.3333333333333333,
              "#9c179e"
             ],
             [
              0.4444444444444444,
              "#bd3786"
             ],
             [
              0.5555555555555556,
              "#d8576b"
             ],
             [
              0.6666666666666666,
              "#ed7953"
             ],
             [
              0.7777777777777778,
              "#fb9f3a"
             ],
             [
              0.8888888888888888,
              "#fdca26"
             ],
             [
              1,
              "#f0f921"
             ]
            ],
            "type": "heatmap"
           }
          ],
          "heatmapgl": [
           {
            "colorbar": {
             "outlinewidth": 0,
             "ticks": ""
            },
            "colorscale": [
             [
              0,
              "#0d0887"
             ],
             [
              0.1111111111111111,
              "#46039f"
             ],
             [
              0.2222222222222222,
              "#7201a8"
             ],
             [
              0.3333333333333333,
              "#9c179e"
             ],
             [
              0.4444444444444444,
              "#bd3786"
             ],
             [
              0.5555555555555556,
              "#d8576b"
             ],
             [
              0.6666666666666666,
              "#ed7953"
             ],
             [
              0.7777777777777778,
              "#fb9f3a"
             ],
             [
              0.8888888888888888,
              "#fdca26"
             ],
             [
              1,
              "#f0f921"
             ]
            ],
            "type": "heatmapgl"
           }
          ],
          "histogram": [
           {
            "marker": {
             "colorbar": {
              "outlinewidth": 0,
              "ticks": ""
             }
            },
            "type": "histogram"
           }
          ],
          "histogram2d": [
           {
            "colorbar": {
             "outlinewidth": 0,
             "ticks": ""
            },
            "colorscale": [
             [
              0,
              "#0d0887"
             ],
             [
              0.1111111111111111,
              "#46039f"
             ],
             [
              0.2222222222222222,
              "#7201a8"
             ],
             [
              0.3333333333333333,
              "#9c179e"
             ],
             [
              0.4444444444444444,
              "#bd3786"
             ],
             [
              0.5555555555555556,
              "#d8576b"
             ],
             [
              0.6666666666666666,
              "#ed7953"
             ],
             [
              0.7777777777777778,
              "#fb9f3a"
             ],
             [
              0.8888888888888888,
              "#fdca26"
             ],
             [
              1,
              "#f0f921"
             ]
            ],
            "type": "histogram2d"
           }
          ],
          "histogram2dcontour": [
           {
            "colorbar": {
             "outlinewidth": 0,
             "ticks": ""
            },
            "colorscale": [
             [
              0,
              "#0d0887"
             ],
             [
              0.1111111111111111,
              "#46039f"
             ],
             [
              0.2222222222222222,
              "#7201a8"
             ],
             [
              0.3333333333333333,
              "#9c179e"
             ],
             [
              0.4444444444444444,
              "#bd3786"
             ],
             [
              0.5555555555555556,
              "#d8576b"
             ],
             [
              0.6666666666666666,
              "#ed7953"
             ],
             [
              0.7777777777777778,
              "#fb9f3a"
             ],
             [
              0.8888888888888888,
              "#fdca26"
             ],
             [
              1,
              "#f0f921"
             ]
            ],
            "type": "histogram2dcontour"
           }
          ],
          "mesh3d": [
           {
            "colorbar": {
             "outlinewidth": 0,
             "ticks": ""
            },
            "type": "mesh3d"
           }
          ],
          "parcoords": [
           {
            "line": {
             "colorbar": {
              "outlinewidth": 0,
              "ticks": ""
             }
            },
            "type": "parcoords"
           }
          ],
          "pie": [
           {
            "automargin": true,
            "type": "pie"
           }
          ],
          "scatter": [
           {
            "marker": {
             "colorbar": {
              "outlinewidth": 0,
              "ticks": ""
             }
            },
            "type": "scatter"
           }
          ],
          "scatter3d": [
           {
            "line": {
             "colorbar": {
              "outlinewidth": 0,
              "ticks": ""
             }
            },
            "marker": {
             "colorbar": {
              "outlinewidth": 0,
              "ticks": ""
             }
            },
            "type": "scatter3d"
           }
          ],
          "scattercarpet": [
           {
            "marker": {
             "colorbar": {
              "outlinewidth": 0,
              "ticks": ""
             }
            },
            "type": "scattercarpet"
           }
          ],
          "scattergeo": [
           {
            "marker": {
             "colorbar": {
              "outlinewidth": 0,
              "ticks": ""
             }
            },
            "type": "scattergeo"
           }
          ],
          "scattergl": [
           {
            "marker": {
             "colorbar": {
              "outlinewidth": 0,
              "ticks": ""
             }
            },
            "type": "scattergl"
           }
          ],
          "scattermapbox": [
           {
            "marker": {
             "colorbar": {
              "outlinewidth": 0,
              "ticks": ""
             }
            },
            "type": "scattermapbox"
           }
          ],
          "scatterpolar": [
           {
            "marker": {
             "colorbar": {
              "outlinewidth": 0,
              "ticks": ""
             }
            },
            "type": "scatterpolar"
           }
          ],
          "scatterpolargl": [
           {
            "marker": {
             "colorbar": {
              "outlinewidth": 0,
              "ticks": ""
             }
            },
            "type": "scatterpolargl"
           }
          ],
          "scatterternary": [
           {
            "marker": {
             "colorbar": {
              "outlinewidth": 0,
              "ticks": ""
             }
            },
            "type": "scatterternary"
           }
          ],
          "surface": [
           {
            "colorbar": {
             "outlinewidth": 0,
             "ticks": ""
            },
            "colorscale": [
             [
              0,
              "#0d0887"
             ],
             [
              0.1111111111111111,
              "#46039f"
             ],
             [
              0.2222222222222222,
              "#7201a8"
             ],
             [
              0.3333333333333333,
              "#9c179e"
             ],
             [
              0.4444444444444444,
              "#bd3786"
             ],
             [
              0.5555555555555556,
              "#d8576b"
             ],
             [
              0.6666666666666666,
              "#ed7953"
             ],
             [
              0.7777777777777778,
              "#fb9f3a"
             ],
             [
              0.8888888888888888,
              "#fdca26"
             ],
             [
              1,
              "#f0f921"
             ]
            ],
            "type": "surface"
           }
          ],
          "table": [
           {
            "cells": {
             "fill": {
              "color": "#EBF0F8"
             },
             "line": {
              "color": "white"
             }
            },
            "header": {
             "fill": {
              "color": "#C8D4E3"
             },
             "line": {
              "color": "white"
             }
            },
            "type": "table"
           }
          ]
         },
         "layout": {
          "annotationdefaults": {
           "arrowcolor": "#2a3f5f",
           "arrowhead": 0,
           "arrowwidth": 1
          },
          "coloraxis": {
           "colorbar": {
            "outlinewidth": 0,
            "ticks": ""
           }
          },
          "colorscale": {
           "diverging": [
            [
             0,
             "#8e0152"
            ],
            [
             0.1,
             "#c51b7d"
            ],
            [
             0.2,
             "#de77ae"
            ],
            [
             0.3,
             "#f1b6da"
            ],
            [
             0.4,
             "#fde0ef"
            ],
            [
             0.5,
             "#f7f7f7"
            ],
            [
             0.6,
             "#e6f5d0"
            ],
            [
             0.7,
             "#b8e186"
            ],
            [
             0.8,
             "#7fbc41"
            ],
            [
             0.9,
             "#4d9221"
            ],
            [
             1,
             "#276419"
            ]
           ],
           "sequential": [
            [
             0,
             "#0d0887"
            ],
            [
             0.1111111111111111,
             "#46039f"
            ],
            [
             0.2222222222222222,
             "#7201a8"
            ],
            [
             0.3333333333333333,
             "#9c179e"
            ],
            [
             0.4444444444444444,
             "#bd3786"
            ],
            [
             0.5555555555555556,
             "#d8576b"
            ],
            [
             0.6666666666666666,
             "#ed7953"
            ],
            [
             0.7777777777777778,
             "#fb9f3a"
            ],
            [
             0.8888888888888888,
             "#fdca26"
            ],
            [
             1,
             "#f0f921"
            ]
           ],
           "sequentialminus": [
            [
             0,
             "#0d0887"
            ],
            [
             0.1111111111111111,
             "#46039f"
            ],
            [
             0.2222222222222222,
             "#7201a8"
            ],
            [
             0.3333333333333333,
             "#9c179e"
            ],
            [
             0.4444444444444444,
             "#bd3786"
            ],
            [
             0.5555555555555556,
             "#d8576b"
            ],
            [
             0.6666666666666666,
             "#ed7953"
            ],
            [
             0.7777777777777778,
             "#fb9f3a"
            ],
            [
             0.8888888888888888,
             "#fdca26"
            ],
            [
             1,
             "#f0f921"
            ]
           ]
          },
          "colorway": [
           "#636efa",
           "#EF553B",
           "#00cc96",
           "#ab63fa",
           "#FFA15A",
           "#19d3f3",
           "#FF6692",
           "#B6E880",
           "#FF97FF",
           "#FECB52"
          ],
          "font": {
           "color": "#2a3f5f"
          },
          "geo": {
           "bgcolor": "white",
           "lakecolor": "white",
           "landcolor": "#E5ECF6",
           "showlakes": true,
           "showland": true,
           "subunitcolor": "white"
          },
          "hoverlabel": {
           "align": "left"
          },
          "hovermode": "closest",
          "mapbox": {
           "style": "light"
          },
          "paper_bgcolor": "white",
          "plot_bgcolor": "#E5ECF6",
          "polar": {
           "angularaxis": {
            "gridcolor": "white",
            "linecolor": "white",
            "ticks": ""
           },
           "bgcolor": "#E5ECF6",
           "radialaxis": {
            "gridcolor": "white",
            "linecolor": "white",
            "ticks": ""
           }
          },
          "scene": {
           "xaxis": {
            "backgroundcolor": "#E5ECF6",
            "gridcolor": "white",
            "gridwidth": 2,
            "linecolor": "white",
            "showbackground": true,
            "ticks": "",
            "zerolinecolor": "white"
           },
           "yaxis": {
            "backgroundcolor": "#E5ECF6",
            "gridcolor": "white",
            "gridwidth": 2,
            "linecolor": "white",
            "showbackground": true,
            "ticks": "",
            "zerolinecolor": "white"
           },
           "zaxis": {
            "backgroundcolor": "#E5ECF6",
            "gridcolor": "white",
            "gridwidth": 2,
            "linecolor": "white",
            "showbackground": true,
            "ticks": "",
            "zerolinecolor": "white"
           }
          },
          "shapedefaults": {
           "line": {
            "color": "#2a3f5f"
           }
          },
          "ternary": {
           "aaxis": {
            "gridcolor": "white",
            "linecolor": "white",
            "ticks": ""
           },
           "baxis": {
            "gridcolor": "white",
            "linecolor": "white",
            "ticks": ""
           },
           "bgcolor": "#E5ECF6",
           "caxis": {
            "gridcolor": "white",
            "linecolor": "white",
            "ticks": ""
           }
          },
          "title": {
           "x": 0.05
          },
          "xaxis": {
           "automargin": true,
           "gridcolor": "white",
           "linecolor": "white",
           "ticks": "",
           "title": {
            "standoff": 15
           },
           "zerolinecolor": "white",
           "zerolinewidth": 2
          },
          "yaxis": {
           "automargin": true,
           "gridcolor": "white",
           "linecolor": "white",
           "ticks": "",
           "title": {
            "standoff": 15
           },
           "zerolinecolor": "white",
           "zerolinewidth": 2
          }
         }
        }
       }
      },
      "text/html": [
       "<div>\n",
       "        \n",
       "        \n",
       "            <div id=\"9745ed59-1dce-4fdf-b10a-4bfd01d2c563\" class=\"plotly-graph-div\" style=\"height:500px; width:100%;\"></div>\n",
       "            <script type=\"text/javascript\">\n",
       "                require([\"plotly\"], function(Plotly) {\n",
       "                    window.PLOTLYENV=window.PLOTLYENV || {};\n",
       "                    \n",
       "                if (document.getElementById(\"9745ed59-1dce-4fdf-b10a-4bfd01d2c563\")) {\n",
       "                    Plotly.newPlot(\n",
       "                        '9745ed59-1dce-4fdf-b10a-4bfd01d2c563',\n",
       "                        [{\"close\": [3084.75, 3085.75, 3095.0, 3101.5, 3120.5, 3122.75, 3137.25, 3141.25, 3136.75, 3140.5], \"high\": [3084.75, 3086.0, 3095.75, 3102.25, 3120.75, 3123.25, 3137.5, 3141.25, 3137.0, 3141.0], \"low\": [3082.5, 3084.25, 3090.75, 3094.25, 3118.75, 3119.0, 3135.0, 3136.5, 3134.75, 3135.25], \"open\": [3083.75, 3084.75, 3091.75, 3095.0, 3119.0, 3120.25, 3136.0, 3137.5, 3135.0, 3136.75], \"type\": \"candlestick\", \"x\": [\"2020-07-01T03:30:00\", \"2020-07-01T03:40:00\", \"2020-07-01T15:30:00\", \"2020-07-01T15:40:00\", \"2020-07-02T10:20:00\", \"2020-07-02T10:30:00\", \"2020-07-02T17:30:00\", \"2020-07-02T17:40:00\", \"2020-07-02T18:10:00\", \"2020-07-02T18:20:00\"]}],\n",
       "                        {\"height\": 500, \"template\": {\"data\": {\"bar\": [{\"error_x\": {\"color\": \"#2a3f5f\"}, \"error_y\": {\"color\": \"#2a3f5f\"}, \"marker\": {\"line\": {\"color\": \"#E5ECF6\", \"width\": 0.5}}, \"type\": \"bar\"}], \"barpolar\": [{\"marker\": {\"line\": {\"color\": \"#E5ECF6\", \"width\": 0.5}}, \"type\": \"barpolar\"}], \"carpet\": [{\"aaxis\": {\"endlinecolor\": \"#2a3f5f\", \"gridcolor\": \"white\", \"linecolor\": \"white\", \"minorgridcolor\": \"white\", \"startlinecolor\": \"#2a3f5f\"}, \"baxis\": {\"endlinecolor\": \"#2a3f5f\", \"gridcolor\": \"white\", \"linecolor\": \"white\", \"minorgridcolor\": \"white\", \"startlinecolor\": \"#2a3f5f\"}, \"type\": \"carpet\"}], \"choropleth\": [{\"colorbar\": {\"outlinewidth\": 0, \"ticks\": \"\"}, \"type\": \"choropleth\"}], \"contour\": [{\"colorbar\": {\"outlinewidth\": 0, \"ticks\": \"\"}, \"colorscale\": [[0.0, \"#0d0887\"], [0.1111111111111111, \"#46039f\"], [0.2222222222222222, \"#7201a8\"], [0.3333333333333333, \"#9c179e\"], [0.4444444444444444, \"#bd3786\"], [0.5555555555555556, \"#d8576b\"], [0.6666666666666666, \"#ed7953\"], [0.7777777777777778, \"#fb9f3a\"], [0.8888888888888888, \"#fdca26\"], [1.0, \"#f0f921\"]], \"type\": \"contour\"}], \"contourcarpet\": [{\"colorbar\": {\"outlinewidth\": 0, \"ticks\": \"\"}, \"type\": \"contourcarpet\"}], \"heatmap\": [{\"colorbar\": {\"outlinewidth\": 0, \"ticks\": \"\"}, \"colorscale\": [[0.0, \"#0d0887\"], [0.1111111111111111, \"#46039f\"], [0.2222222222222222, \"#7201a8\"], [0.3333333333333333, \"#9c179e\"], [0.4444444444444444, \"#bd3786\"], [0.5555555555555556, \"#d8576b\"], [0.6666666666666666, \"#ed7953\"], [0.7777777777777778, \"#fb9f3a\"], [0.8888888888888888, \"#fdca26\"], [1.0, \"#f0f921\"]], \"type\": \"heatmap\"}], \"heatmapgl\": [{\"colorbar\": {\"outlinewidth\": 0, \"ticks\": \"\"}, \"colorscale\": [[0.0, \"#0d0887\"], [0.1111111111111111, \"#46039f\"], [0.2222222222222222, \"#7201a8\"], [0.3333333333333333, \"#9c179e\"], [0.4444444444444444, \"#bd3786\"], [0.5555555555555556, \"#d8576b\"], [0.6666666666666666, \"#ed7953\"], [0.7777777777777778, \"#fb9f3a\"], [0.8888888888888888, \"#fdca26\"], [1.0, \"#f0f921\"]], \"type\": \"heatmapgl\"}], \"histogram\": [{\"marker\": {\"colorbar\": {\"outlinewidth\": 0, \"ticks\": \"\"}}, \"type\": \"histogram\"}], \"histogram2d\": [{\"colorbar\": {\"outlinewidth\": 0, \"ticks\": \"\"}, \"colorscale\": [[0.0, \"#0d0887\"], [0.1111111111111111, \"#46039f\"], [0.2222222222222222, \"#7201a8\"], [0.3333333333333333, \"#9c179e\"], [0.4444444444444444, \"#bd3786\"], [0.5555555555555556, \"#d8576b\"], [0.6666666666666666, \"#ed7953\"], [0.7777777777777778, \"#fb9f3a\"], [0.8888888888888888, \"#fdca26\"], [1.0, \"#f0f921\"]], \"type\": \"histogram2d\"}], \"histogram2dcontour\": [{\"colorbar\": {\"outlinewidth\": 0, \"ticks\": \"\"}, \"colorscale\": [[0.0, \"#0d0887\"], [0.1111111111111111, \"#46039f\"], [0.2222222222222222, \"#7201a8\"], [0.3333333333333333, \"#9c179e\"], [0.4444444444444444, \"#bd3786\"], [0.5555555555555556, \"#d8576b\"], [0.6666666666666666, \"#ed7953\"], [0.7777777777777778, \"#fb9f3a\"], [0.8888888888888888, \"#fdca26\"], [1.0, \"#f0f921\"]], \"type\": \"histogram2dcontour\"}], \"mesh3d\": [{\"colorbar\": {\"outlinewidth\": 0, \"ticks\": \"\"}, \"type\": \"mesh3d\"}], \"parcoords\": [{\"line\": {\"colorbar\": {\"outlinewidth\": 0, \"ticks\": \"\"}}, \"type\": \"parcoords\"}], \"pie\": [{\"automargin\": true, \"type\": \"pie\"}], \"scatter\": [{\"marker\": {\"colorbar\": {\"outlinewidth\": 0, \"ticks\": \"\"}}, \"type\": \"scatter\"}], \"scatter3d\": [{\"line\": {\"colorbar\": {\"outlinewidth\": 0, \"ticks\": \"\"}}, \"marker\": {\"colorbar\": {\"outlinewidth\": 0, \"ticks\": \"\"}}, \"type\": \"scatter3d\"}], \"scattercarpet\": [{\"marker\": {\"colorbar\": {\"outlinewidth\": 0, \"ticks\": \"\"}}, \"type\": \"scattercarpet\"}], \"scattergeo\": [{\"marker\": {\"colorbar\": {\"outlinewidth\": 0, \"ticks\": \"\"}}, \"type\": \"scattergeo\"}], \"scattergl\": [{\"marker\": {\"colorbar\": {\"outlinewidth\": 0, \"ticks\": \"\"}}, \"type\": \"scattergl\"}], \"scattermapbox\": [{\"marker\": {\"colorbar\": {\"outlinewidth\": 0, \"ticks\": \"\"}}, \"type\": \"scattermapbox\"}], \"scatterpolar\": [{\"marker\": {\"colorbar\": {\"outlinewidth\": 0, \"ticks\": \"\"}}, \"type\": \"scatterpolar\"}], \"scatterpolargl\": [{\"marker\": {\"colorbar\": {\"outlinewidth\": 0, \"ticks\": \"\"}}, \"type\": \"scatterpolargl\"}], \"scatterternary\": [{\"marker\": {\"colorbar\": {\"outlinewidth\": 0, \"ticks\": \"\"}}, \"type\": \"scatterternary\"}], \"surface\": [{\"colorbar\": {\"outlinewidth\": 0, \"ticks\": \"\"}, \"colorscale\": [[0.0, \"#0d0887\"], [0.1111111111111111, \"#46039f\"], [0.2222222222222222, \"#7201a8\"], [0.3333333333333333, \"#9c179e\"], [0.4444444444444444, \"#bd3786\"], [0.5555555555555556, \"#d8576b\"], [0.6666666666666666, \"#ed7953\"], [0.7777777777777778, \"#fb9f3a\"], [0.8888888888888888, \"#fdca26\"], [1.0, \"#f0f921\"]], \"type\": \"surface\"}], \"table\": [{\"cells\": {\"fill\": {\"color\": \"#EBF0F8\"}, \"line\": {\"color\": \"white\"}}, \"header\": {\"fill\": {\"color\": \"#C8D4E3\"}, \"line\": {\"color\": \"white\"}}, \"type\": \"table\"}]}, \"layout\": {\"annotationdefaults\": {\"arrowcolor\": \"#2a3f5f\", \"arrowhead\": 0, \"arrowwidth\": 1}, \"coloraxis\": {\"colorbar\": {\"outlinewidth\": 0, \"ticks\": \"\"}}, \"colorscale\": {\"diverging\": [[0, \"#8e0152\"], [0.1, \"#c51b7d\"], [0.2, \"#de77ae\"], [0.3, \"#f1b6da\"], [0.4, \"#fde0ef\"], [0.5, \"#f7f7f7\"], [0.6, \"#e6f5d0\"], [0.7, \"#b8e186\"], [0.8, \"#7fbc41\"], [0.9, \"#4d9221\"], [1, \"#276419\"]], \"sequential\": [[0.0, \"#0d0887\"], [0.1111111111111111, \"#46039f\"], [0.2222222222222222, \"#7201a8\"], [0.3333333333333333, \"#9c179e\"], [0.4444444444444444, \"#bd3786\"], [0.5555555555555556, \"#d8576b\"], [0.6666666666666666, \"#ed7953\"], [0.7777777777777778, \"#fb9f3a\"], [0.8888888888888888, \"#fdca26\"], [1.0, \"#f0f921\"]], \"sequentialminus\": [[0.0, \"#0d0887\"], [0.1111111111111111, \"#46039f\"], [0.2222222222222222, \"#7201a8\"], [0.3333333333333333, \"#9c179e\"], [0.4444444444444444, \"#bd3786\"], [0.5555555555555556, \"#d8576b\"], [0.6666666666666666, \"#ed7953\"], [0.7777777777777778, \"#fb9f3a\"], [0.8888888888888888, \"#fdca26\"], [1.0, \"#f0f921\"]]}, \"colorway\": [\"#636efa\", \"#EF553B\", \"#00cc96\", \"#ab63fa\", \"#FFA15A\", \"#19d3f3\", \"#FF6692\", \"#B6E880\", \"#FF97FF\", \"#FECB52\"], \"font\": {\"color\": \"#2a3f5f\"}, \"geo\": {\"bgcolor\": \"white\", \"lakecolor\": \"white\", \"landcolor\": \"#E5ECF6\", \"showlakes\": true, \"showland\": true, \"subunitcolor\": \"white\"}, \"hoverlabel\": {\"align\": \"left\"}, \"hovermode\": \"closest\", \"mapbox\": {\"style\": \"light\"}, \"paper_bgcolor\": \"white\", \"plot_bgcolor\": \"#E5ECF6\", \"polar\": {\"angularaxis\": {\"gridcolor\": \"white\", \"linecolor\": \"white\", \"ticks\": \"\"}, \"bgcolor\": \"#E5ECF6\", \"radialaxis\": {\"gridcolor\": \"white\", \"linecolor\": \"white\", \"ticks\": \"\"}}, \"scene\": {\"xaxis\": {\"backgroundcolor\": \"#E5ECF6\", \"gridcolor\": \"white\", \"gridwidth\": 2, \"linecolor\": \"white\", \"showbackground\": true, \"ticks\": \"\", \"zerolinecolor\": \"white\"}, \"yaxis\": {\"backgroundcolor\": \"#E5ECF6\", \"gridcolor\": \"white\", \"gridwidth\": 2, \"linecolor\": \"white\", \"showbackground\": true, \"ticks\": \"\", \"zerolinecolor\": \"white\"}, \"zaxis\": {\"backgroundcolor\": \"#E5ECF6\", \"gridcolor\": \"white\", \"gridwidth\": 2, \"linecolor\": \"white\", \"showbackground\": true, \"ticks\": \"\", \"zerolinecolor\": \"white\"}}, \"shapedefaults\": {\"line\": {\"color\": \"#2a3f5f\"}}, \"ternary\": {\"aaxis\": {\"gridcolor\": \"white\", \"linecolor\": \"white\", \"ticks\": \"\"}, \"baxis\": {\"gridcolor\": \"white\", \"linecolor\": \"white\", \"ticks\": \"\"}, \"bgcolor\": \"#E5ECF6\", \"caxis\": {\"gridcolor\": \"white\", \"linecolor\": \"white\", \"ticks\": \"\"}}, \"title\": {\"x\": 0.05}, \"xaxis\": {\"automargin\": true, \"gridcolor\": \"white\", \"linecolor\": \"white\", \"ticks\": \"\", \"title\": {\"standoff\": 15}, \"zerolinecolor\": \"white\", \"zerolinewidth\": 2}, \"yaxis\": {\"automargin\": true, \"gridcolor\": \"white\", \"linecolor\": \"white\", \"ticks\": \"\", \"title\": {\"standoff\": 15}, \"zerolinecolor\": \"white\", \"zerolinewidth\": 2}}}},\n",
       "                        {\"responsive\": true}\n",
       "                    ).then(function(){\n",
       "                            \n",
       "var gd = document.getElementById('9745ed59-1dce-4fdf-b10a-4bfd01d2c563');\n",
       "var x = new MutationObserver(function (mutations, observer) {{\n",
       "        var display = window.getComputedStyle(gd).display;\n",
       "        if (!display || display === 'none') {{\n",
       "            console.log([gd, 'removed!']);\n",
       "            Plotly.purge(gd);\n",
       "            observer.disconnect();\n",
       "        }}\n",
       "}});\n",
       "\n",
       "// Listen for the removal of the full notebook cells\n",
       "var notebookContainer = gd.closest('#notebook-container');\n",
       "if (notebookContainer) {{\n",
       "    x.observe(notebookContainer, {childList: true});\n",
       "}}\n",
       "\n",
       "// Listen for the clearing of the current output cell\n",
       "var outputEl = gd.closest('.output');\n",
       "if (outputEl) {{\n",
       "    x.observe(outputEl, {childList: true});\n",
       "}}\n",
       "\n",
       "                        })\n",
       "                };\n",
       "                });\n",
       "            </script>\n",
       "        </div>"
      ]
     },
     "metadata": {},
     "output_type": "display_data"
    }
   ],
   "source": [
    "# filter for you PLOTLY graph\n",
    "\n",
    "fig = go.Figure(data=go.Candlestick(x=tmp_df.index,\n",
    "                    open=tmp_df['Open'],\n",
    "                    high=tmp_df['High'],\n",
    "                    low=tmp_df['Low'],\n",
    "                    close=tmp_df['Close']))\n",
    "fig.update_layout(height=500)\n",
    "fig.show()\n"
   ]
  },
  {
   "cell_type": "code",
   "execution_count": null,
   "metadata": {},
   "outputs": [],
   "source": []
  },
  {
   "cell_type": "code",
   "execution_count": null,
   "metadata": {},
   "outputs": [],
   "source": []
  }
 ],
 "metadata": {
  "kernelspec": {
   "display_name": "Python 3",
   "language": "python",
   "name": "python3"
  },
  "language_info": {
   "codemirror_mode": {
    "name": "ipython",
    "version": 3
   },
   "file_extension": ".py",
   "mimetype": "text/x-python",
   "name": "python",
   "nbconvert_exporter": "python",
   "pygments_lexer": "ipython3",
   "version": "3.7.6"
  }
 },
 "nbformat": 4,
 "nbformat_minor": 4
}
